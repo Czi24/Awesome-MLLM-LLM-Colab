{
 "cells": [
  {
   "cell_type": "markdown",
   "id": "c503e5ef-6bb4-45c3-ac49-0e016cedd8d0",
   "metadata": {},
   "source": [
    "<table style=\"width:100%\">\n",
    "<tr>\n",
    "<td style=\"vertical-align:middle; text-align:left;\">\n",
    "<font size=\"2\">\n",
    "补充代码来自 <a href=\"http://mng.bz/orYv\">从零构建大型语言模型</a> 一书，作者为 <a href=\"https://sebastianraschka.com\">Sebastian Raschka</a><br>\n",
    "<br>代码仓库: <a href=\"https://github.com/rasbt/LLMs-from-scratch\">https://github.com/rasbt/LLMs-from-scratch</a>\n",
    "</font>\n",
    "</td>\n",
    "<td style=\"vertical-align:middle; text-align:left;\">\n",
    "<a href=\"http://mng.bz/orYv\"><img src=\"https://sebastianraschka.com/images/LLMs-from-scratch-images/cover-small.webp\" width=\"100px\"></a>\n",
    "</td>\n",
    "</tr>\n",
    "</table>"
   ]
  },
  {
   "cell_type": "markdown",
   "id": "8a9e554f-58e3-4787-832d-d149add1b857",
   "metadata": {},
   "source": [
    "- 通过取消注释并运行以下单元格来安装此附加笔记本所需的额外包要求："
   ]
  },
  {
   "cell_type": "code",
   "execution_count": 1,
   "id": "d70bae22-b540-4a13-ab01-e748cb9d55c9",
   "metadata": {},
   "outputs": [],
   "source": [
    "# pip install -r requirements-extra.txt"
   ]
  },
  {
   "cell_type": "markdown",
   "id": "737c59bb-5922-46fc-a787-1369d70925b4",
   "metadata": {},
   "source": [
    "# 比较各种字节对编码（BPE）实现"
   ]
  },
  {
   "cell_type": "markdown",
   "id": "a9adc3bf-353c-411e-a471-0e92786e7103",
   "metadata": {},
   "source": [
    "## 使用 `tiktoken` 中的 BPE"
   ]
  },
  {
   "cell_type": "code",
   "id": "1c490fca-a48a-47fa-a299-322d1a08ad17",
   "metadata": {
    "ExecuteTime": {
     "end_time": "2024-09-27T08:44:55.138010Z",
     "start_time": "2024-09-27T08:44:55.130195Z"
    }
   },
   "source": [
    "from importlib.metadata import version\n",
    "\n",
    "# 打印 tiktoken 库的版本信息\n",
    "print(\"tiktoken version:\", version(\"tiktoken\"))"
   ],
   "outputs": [
    {
     "name": "stdout",
     "output_type": "stream",
     "text": [
      "tiktoken version: 0.6.0\n"
     ]
    }
   ],
   "execution_count": 9
  },
  {
   "cell_type": "code",
   "id": "0952667c-ce84-4f21-87db-59f52b44cec4",
   "metadata": {
    "ExecuteTime": {
     "end_time": "2024-09-27T08:44:55.407472Z",
     "start_time": "2024-09-27T08:44:55.273341Z"
    }
   },
   "source": [
    "import tiktoken\n",
    "\n",
    "# 获取 GPT-2 的分词器\n",
    "tik_tokenizer = tiktoken.get_encoding(\"gpt2\")\n",
    "\n",
    "# 要进行分词的文本\n",
    "text = \"Hello, world. Is this-- a test?\""
   ],
   "outputs": [],
   "execution_count": 10
  },
  {
   "cell_type": "code",
   "id": "b039c350-18ad-48fb-8e6a-085702dfc330",
   "metadata": {
    "ExecuteTime": {
     "end_time": "2024-09-27T08:44:55.427621Z",
     "start_time": "2024-09-27T08:44:55.424817Z"
    }
   },
   "source": [
    "# 将文本进行编码，允许 \"<|endoftext|>\" 特殊符号\n",
    "integers = tik_tokenizer.encode(text, allowed_special={\"<|endoftext|>\"})\n",
    "\n",
    "# 打印编码后的整数列表\n",
    "print(integers)"
   ],
   "outputs": [
    {
     "name": "stdout",
     "output_type": "stream",
     "text": [
      "[15496, 11, 995, 13, 1148, 428, 438, 257, 1332, 30]\n"
     ]
    }
   ],
   "execution_count": 11
  },
  {
   "cell_type": "code",
   "id": "7b152ba4-04d3-41cc-849f-adedcfb8cabb",
   "metadata": {
    "ExecuteTime": {
     "end_time": "2024-09-27T08:44:55.591508Z",
     "start_time": "2024-09-27T08:44:55.589165Z"
    }
   },
   "source": [
    "# 将编码后的整数列表解码回字符串\n",
    "strings = tik_tokenizer.decode(integers)\n",
    "\n",
    "# 打印解码后的字符串\n",
    "print(strings)"
   ],
   "outputs": [
    {
     "name": "stdout",
     "output_type": "stream",
     "text": [
      "Hello, world. Is this-- a test?\n"
     ]
    }
   ],
   "execution_count": 12
  },
  {
   "cell_type": "code",
   "id": "cf148a1a-316b-43ec-b7ba-1b6d409ce837",
   "metadata": {
    "ExecuteTime": {
     "end_time": "2024-09-27T08:44:55.878284Z",
     "start_time": "2024-09-27T08:44:55.875674Z"
    }
   },
   "source": [
    "# 打印 GPT-2 分词器的词汇表大小\n",
    "print(tik_tokenizer.n_vocab)"
   ],
   "outputs": [
    {
     "name": "stdout",
     "output_type": "stream",
     "text": [
      "50257\n"
     ]
    }
   ],
   "execution_count": 13
  },
  {
   "cell_type": "markdown",
   "id": "6a0b5d4f-2af9-40de-828c-063c4243e771",
   "metadata": {},
   "source": [
    "## 使用 GPT-2 中原始的 BPE 实现"
   ]
  },
  {
   "cell_type": "code",
   "id": "0903108c-65cb-4ae1-967a-2155e25349c2",
   "metadata": {
    "ExecuteTime": {
     "end_time": "2024-09-27T08:44:56.647920Z",
     "start_time": "2024-09-27T08:44:56.646053Z"
    }
   },
   "source": [
    "from bpe_openai_gpt2 import get_encoder, download_vocab"
   ],
   "outputs": [],
   "execution_count": 14
  },
  {
   "cell_type": "code",
   "id": "35dd8d7c-8c12-4b68-941a-0fd05882dd45",
   "metadata": {
    "ExecuteTime": {
     "end_time": "2024-09-27T08:45:03.056478Z",
     "start_time": "2024-09-27T08:44:57.034396Z"
    }
   },
   "source": [
    "download_vocab()"
   ],
   "outputs": [
    {
     "name": "stderr",
     "output_type": "stream",
     "text": [
      "Fetching encoder.json: 1.04Mit [00:02, 509kit/s]                                                    \n",
      "Fetching vocab.bpe: 457kit [00:01, 315kit/s]                                                        \n"
     ]
    }
   ],
   "execution_count": 15
  },
  {
   "cell_type": "code",
   "id": "1888a7a9-9c40-4fe0-99b4-ebd20aa1ffd0",
   "metadata": {
    "ExecuteTime": {
     "end_time": "2024-09-27T08:45:03.107801Z",
     "start_time": "2024-09-27T08:45:03.059381Z"
    }
   },
   "source": [
    "orig_tokenizer = get_encoder(model_name=\"gpt2_model\", models_dir=\".\")"
   ],
   "outputs": [],
   "execution_count": 16
  },
  {
   "cell_type": "code",
   "id": "2740510c-a78a-4fba-ae18-2b156ba2dfef",
   "metadata": {
    "ExecuteTime": {
     "end_time": "2024-09-27T08:45:03.111330Z",
     "start_time": "2024-09-27T08:45:03.108573Z"
    }
   },
   "source": [
    "integers = orig_tokenizer.encode(text)\n",
    "\n",
    "print(integers)"
   ],
   "outputs": [
    {
     "name": "stdout",
     "output_type": "stream",
     "text": [
      "[15496, 11, 995, 13, 1148, 428, 438, 257, 1332, 30]\n"
     ]
    }
   ],
   "execution_count": 17
  },
  {
   "cell_type": "code",
   "id": "434d115e-990d-42ad-88dd-31323a96e10f",
   "metadata": {
    "ExecuteTime": {
     "end_time": "2024-09-27T08:45:03.114280Z",
     "start_time": "2024-09-27T08:45:03.112453Z"
    }
   },
   "source": [
    "strings = orig_tokenizer.decode(integers)\n",
    "\n",
    "print(strings)"
   ],
   "outputs": [
    {
     "name": "stdout",
     "output_type": "stream",
     "text": [
      "Hello, world. Is this-- a test?\n"
     ]
    }
   ],
   "execution_count": 18
  },
  {
   "cell_type": "markdown",
   "id": "4f63e8c6-707c-4d66-bcf8-dd790647cc86",
   "metadata": {},
   "source": [
    "## 通过 Hugging Face transformers 使用 BPE"
   ]
  },
  {
   "cell_type": "code",
   "id": "e9077bf4-f91f-42ad-ab76-f3d89128510e",
   "metadata": {
    "ExecuteTime": {
     "end_time": "2024-09-27T08:43:59.324436Z",
     "start_time": "2024-09-27T08:43:58.604688Z"
    }
   },
   "source": [
    "# !pip install transformers\n",
    "import transformers\n",
    "\n",
    "transformers.__version__"
   ],
   "outputs": [
    {
     "data": {
      "text/plain": [
       "'4.45.1'"
      ]
     },
     "execution_count": 1,
     "metadata": {},
     "output_type": "execute_result"
    }
   ],
   "execution_count": 1
  },
  {
   "cell_type": "code",
   "id": "a9839137-b8ea-4a2c-85fc-9a63064cf8c8",
   "metadata": {
    "jupyter": {
     "is_executing": true
    },
    "ExecuteTime": {
     "start_time": "2024-09-27T08:44:01.326890Z"
    }
   },
   "source": [
    "from transformers import GPT2Tokenizer\n",
    "\n",
    "hf_tokenizer = GPT2Tokenizer.from_pretrained(\"gpt2\")"
   ],
   "outputs": [],
   "execution_count": null
  },
  {
   "cell_type": "code",
   "execution_count": null,
   "id": "222cbd69-6a3d-4868-9c1f-421ffc9d5fe1",
   "metadata": {},
   "outputs": [],
   "source": [
    "hf_tokenizer(strings)[\"input_ids\"]"
   ]
  },
  {
   "cell_type": "markdown",
   "id": "907a1ade-3401-4f2e-9017-7f58a60cbd98",
   "metadata": {},
   "source": [
    "## 快速性能基准测试"
   ]
  },
  {
   "cell_type": "code",
   "id": "a61bb445-b151-4a2f-8180-d4004c503754",
   "metadata": {
    "ExecuteTime": {
     "end_time": "2024-09-27T08:45:07.318222Z",
     "start_time": "2024-09-27T08:45:07.315143Z"
    }
   },
   "source": [
    "with open('../01_main-chapter-code/the-verdict.txt', 'r', encoding='utf-8') as f:\n",
    "    raw_text = f.read()"
   ],
   "outputs": [],
   "execution_count": 19
  },
  {
   "cell_type": "code",
   "id": "57f7c0a3-c1fd-4313-af34-68e78eb33653",
   "metadata": {
    "ExecuteTime": {
     "end_time": "2024-09-27T08:45:11.095763Z",
     "start_time": "2024-09-27T08:45:07.852255Z"
    }
   },
   "source": [
    "%timeit orig_tokenizer.encode(raw_text)"
   ],
   "outputs": [
    {
     "name": "stdout",
     "output_type": "stream",
     "text": [
      "3.85 ms ± 17.6 µs per loop (mean ± std. dev. of 7 runs, 100 loops each)\n"
     ]
    }
   ],
   "execution_count": 20
  },
  {
   "cell_type": "code",
   "id": "036dd628-3591-46c9-a5ce-b20b105a8062",
   "metadata": {
    "ExecuteTime": {
     "end_time": "2024-09-27T08:45:22.411493Z",
     "start_time": "2024-09-27T08:45:13.095952Z"
    }
   },
   "source": [
    "%timeit tik_tokenizer.encode(raw_text)"
   ],
   "outputs": [
    {
     "name": "stdout",
     "output_type": "stream",
     "text": [
      "1.15 ms ± 6.18 µs per loop (mean ± std. dev. of 7 runs, 1,000 loops each)\n"
     ]
    }
   ],
   "execution_count": 21
  },
  {
   "cell_type": "code",
   "execution_count": 18,
   "id": "b9c85b58-bfbc-465e-9a7e-477e53d55c90",
   "metadata": {},
   "outputs": [
    {
     "name": "stderr",
     "output_type": "stream",
     "text": [
      "Token indices sequence length is longer than the specified maximum sequence length for this model (5145 > 1024). Running this sequence through the model will result in indexing errors\n"
     ]
    },
    {
     "name": "stdout",
     "output_type": "stream",
     "text": [
      "8.46 ms ± 48.8 µs per loop (mean ± std. dev. of 7 runs, 100 loops each)\n"
     ]
    }
   ],
   "source": [
    "%timeit hf_tokenizer(raw_text)[\"input_ids\"]"
   ]
  },
  {
   "cell_type": "code",
   "execution_count": 19,
   "id": "7117107f-22a6-46b4-a442-712d50b3ac7a",
   "metadata": {},
   "outputs": [
    {
     "name": "stdout",
     "output_type": "stream",
     "text": [
      "8.36 ms ± 184 µs per loop (mean ± std. dev. of 7 runs, 100 loops each)\n"
     ]
    }
   ],
   "source": [
    "%timeit hf_tokenizer(raw_text, max_length=5145, truncation=True)[\"input_ids\"]"
   ]
  }
 ],
 "metadata": {
  "kernelspec": {
   "display_name": "Python 3 (ipykernel)",
   "language": "python",
   "name": "python3"
  },
  "language_info": {
   "codemirror_mode": {
    "name": "ipython",
    "version": 3
   },
   "file_extension": ".py",
   "mimetype": "text/x-python",
   "name": "python",
   "nbconvert_exporter": "python",
   "pygments_lexer": "ipython3",
   "version": "3.10.14"
  }
 },
 "nbformat": 4,
 "nbformat_minor": 5
}
