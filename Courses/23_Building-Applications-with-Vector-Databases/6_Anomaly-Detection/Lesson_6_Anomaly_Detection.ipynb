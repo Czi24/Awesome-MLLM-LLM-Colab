{
 "cells": [
  {
   "cell_type": "markdown",
   "id": "1234a0a7-23ec-4003-9fff-489ad3539ab2",
   "metadata": {},
   "source": [
    "# Lesson 6 - Anomaly Detection"
   ]
  },
  {
   "cell_type": "markdown",
   "id": "72224b89",
   "metadata": {},
   "source": [
    "### Import the Needed Packages"
   ]
  },
  {
   "cell_type": "code",
   "execution_count": null,
   "id": "2f7cebea-da30-4144-a980-19ffeb036147",
   "metadata": {
    "height": 47
   },
   "outputs": [],
   "source": [
    "import warnings\n",
    "warnings.filterwarnings('ignore')"
   ]
  },
  {
   "cell_type": "code",
   "execution_count": null,
   "id": "1048460f-d754-4560-bf64-8181c57a21cb",
   "metadata": {
    "height": 199
   },
   "outputs": [],
   "source": [
    "from pinecone import Pinecone, ServerlessSpec\n",
    "from sentence_transformers import SentenceTransformer, InputExample, losses, models, util\n",
    "from torch.utils.data import DataLoader\n",
    "from torch import nn\n",
    "from tqdm.auto import tqdm\n",
    "from DLAIUtils import Utils\n",
    "import torch\n",
    "import time\n",
    "import torch\n",
    "import os"
   ]
  },
  {
   "cell_type": "markdown",
   "id": "55f6bd87",
   "metadata": {},
   "source": [
    "### Setup Pinecone"
   ]
  },
  {
   "cell_type": "code",
   "execution_count": null,
   "id": "39f2f0f0-ea80-442d-a17b-4e186b9e154c",
   "metadata": {
    "height": 46
   },
   "outputs": [],
   "source": [
    "utils = Utils()\n",
    "PINECONE_API_KEY = utils.get_pinecone_api_key()"
   ]
  },
  {
   "cell_type": "code",
   "execution_count": null,
   "id": "0db99c27-9ab4-4eb3-962b-8bebcce499ae",
   "metadata": {
    "height": 182
   },
   "outputs": [],
   "source": [
    "INDEX_NAME = utils.create_dlai_index_name('dl-ai')\n",
    "\n",
    "pinecone = Pinecone(api_key=PINECONE_API_KEY)\n",
    "\n",
    "if INDEX_NAME in [index.name for index in pinecone.list_indexes()]:\n",
    "  pinecone.delete_index(INDEX_NAME)\n",
    "pinecone.create_index(name=INDEX_NAME, dimension=256, metric='cosine',\n",
    "  spec=ServerlessSpec(cloud='aws', region='us-west-2'))\n",
    "index = pinecone.Index(INDEX_NAME)"
   ]
  },
  {
   "cell_type": "markdown",
   "id": "01176a02",
   "metadata": {},
   "source": [
    "### Load the Dataset\n",
    "\n",
    "**Note:** To access the dataset outside of this course, just copy the following three lines of code and run it (remember to uncomment them first before executing):\n",
    "\n",
    "#!wget -q --show-progress -O training.tar.zip \"https://www.dropbox.com/scl/fi/rihfngx4ju5pzjzjj7u9z/lesson6.tar.zip?rlkey=rct9a9bo8euqgshrk8wiq2orh&dl=1\"\n",
    "\n",
    "#!tar -xzvf training.tar.zip\n",
    "\n",
    "#!tar -xzvf lesson6.tar"
   ]
  },
  {
   "cell_type": "code",
   "execution_count": null,
   "id": "8a6d0706-866a-4eaa-b957-3044badcd3e2",
   "metadata": {
    "height": 29
   },
   "outputs": [],
   "source": [
    "!head -5 sample.log"
   ]
  },
  {
   "cell_type": "code",
   "execution_count": null,
   "id": "b09f94c0-41e3-40f7-a0f8-07dfb46be970",
   "metadata": {
    "height": 29
   },
   "outputs": [],
   "source": [
    "!head -5 training.txt"
   ]
  },
  {
   "cell_type": "markdown",
   "id": "b7c5ac36",
   "metadata": {},
   "source": [
    "### Check cuda and Setup the Model\n",
    "\n",
    "We are using *bert-base-uncased* sentence-transformers model that maps sentences to a 256 dimensional dense vector space."
   ]
  },
  {
   "cell_type": "code",
   "execution_count": null,
   "id": "aed53bf9",
   "metadata": {
    "height": 148
   },
   "outputs": [],
   "source": [
    "device = 'cuda' if torch.cuda.is_available() else 'cpu'\n",
    "word_embedding_model = models.Transformer('bert-base-uncased', max_seq_length=768)\n",
    "pooling_model = models.Pooling(word_embedding_model.get_word_embedding_dimension())\n",
    "dense_model = models.Dense(in_features=pooling_model.get_sentence_embedding_dimension(), out_features=256, activation_function=nn.Tanh())\n",
    "\n",
    "model = SentenceTransformer(modules=[word_embedding_model, pooling_model, dense_model], device=device)\n",
    "device"
   ]
  },
  {
   "cell_type": "markdown",
   "id": "8e4ff493",
   "metadata": {},
   "source": [
    "### Train the Model"
   ]
  },
  {
   "cell_type": "code",
   "execution_count": null,
   "id": "ff162cdf-8c6d-4760-b21f-489e242c7eed",
   "metadata": {
    "height": 250
   },
   "outputs": [],
   "source": [
    "train_examples = []\n",
    "with open('./training.txt', 'r') as f:\n",
    "    lines = f.readlines()\n",
    "    for line in lines:\n",
    "        line = line.strip()\n",
    "        if line:\n",
    "            a, b, label = line.split('^')\n",
    "            train_examples.append(InputExample(texts=[a, b], label=float(label)))\n",
    "\n",
    "#Define dataset, the dataloader and the training loss\n",
    "warmup_steps=100\n",
    "train_dataloader = DataLoader(train_examples, shuffle=True, batch_size=16)\n",
    "train_loss = losses.CosineSimilarityLoss(model)"
   ]
  },
  {
   "cell_type": "markdown",
   "id": "45b725f3-ef8c-4f3c-93bd-6ab2812f654c",
   "metadata": {},
   "source": [
    "<p style=\"background-color:#fff1d7; padding:15px; \"> <b>(Note: <code>load_pretrained_model = True</code>):</b> We've saved the trained model and are loading it here for speedier results, allowing you to observe the outcomes faster. Once you've done an initial run, you may set <code>load_pretrained_model</code> to <code>False</code> to train the model yourself. This can take some time to finsih, depending the value you set for the <code>epochs</code>.</p>"
   ]
  },
  {
   "cell_type": "code",
   "execution_count": null,
   "id": "3190a653-97f7-4684-8b8e-063a8b7ab678",
   "metadata": {
    "height": 318
   },
   "outputs": [],
   "source": [
    "import pickle\n",
    "load_pretrained_model = True\n",
    "if load_pretrained_model:\n",
    "    trained_model_file = open('./data/pretrained_model', 'rb')    \n",
    "    db = pickle.load(trained_model_file)\n",
    "    trained_model_file.close()\n",
    "else:\n",
    "    model.fit(train_objectives=[(train_dataloader, train_loss)], epochs=16, warmup_steps=100)\n",
    "\n",
    "samples = []\n",
    "with open('sample.log', 'r') as f:\n",
    "    lines = f.readlines()\n",
    "    for line in lines:\n",
    "        line = line.strip()\n",
    "        if line:\n",
    "            #emb = model.encode([line])\n",
    "            samples.append(line)"
   ]
  },
  {
   "cell_type": "markdown",
   "id": "8216063b",
   "metadata": {},
   "source": [
    "### Create Embeddings and Upsert to Pinecone"
   ]
  },
  {
   "cell_type": "code",
   "execution_count": null,
   "id": "c7c4f83b-c265-4f09-bcd4-7f82863c762b",
   "metadata": {
    "height": 29
   },
   "outputs": [],
   "source": [
    "emb = model.encode(samples)"
   ]
  },
  {
   "cell_type": "code",
   "execution_count": null,
   "id": "a52b699c-9492-4a9c-9dfb-966345d59741",
   "metadata": {
    "height": 114
   },
   "outputs": [],
   "source": [
    "prepped = []\n",
    "for i in tqdm(range(len(samples))):\n",
    "  v = {'id':f'{i}', 'values':emb[i].tolist(), 'metadata':{'log':samples[i]}}\n",
    "  prepped.append(v)\n",
    "index.upsert(prepped)"
   ]
  },
  {
   "cell_type": "markdown",
   "id": "aa92e64d",
   "metadata": {},
   "source": [
    "### Find the Anomaly"
   ]
  },
  {
   "cell_type": "code",
   "execution_count": null,
   "id": "e1b3d0c4-3f46-4651-8eec-427599fd73a9",
   "metadata": {
    "height": 29
   },
   "outputs": [],
   "source": [
    "good_log_line = samples[0]"
   ]
  },
  {
   "cell_type": "code",
   "execution_count": null,
   "id": "155b3507-3648-4a2d-b420-3b92672c3960",
   "metadata": {
    "height": 29
   },
   "outputs": [],
   "source": [
    "print(good_log_line)"
   ]
  },
  {
   "cell_type": "code",
   "execution_count": null,
   "id": "7e1f161a-af9b-4c64-9ee1-4073f4fdfecf",
   "metadata": {
    "height": 199
   },
   "outputs": [],
   "source": [
    "results = []\n",
    "while len(results)==0:  # After the upserts, it might take a few seconds for index to be ready for query.  \n",
    "    time.sleep(2)       # If results is empty we try again two seconds later.\n",
    "    queried = index.query(\n",
    "        vector=emb[0].tolist(),\n",
    "        include_metadata=True,\n",
    "        top_k=100\n",
    "    )\n",
    "    results = queried['matches']\n",
    "    print(\".:. \",end=\"\")"
   ]
  },
  {
   "cell_type": "code",
   "execution_count": null,
   "id": "11263342-1dd5-49d7-b083-a9cd8487bfa5",
   "metadata": {
    "height": 63
   },
   "outputs": [],
   "source": [
    "for i in range(0,10) :\n",
    "  print(f\"{round(results[i]['score'], 4)}\\t{results[i]['metadata']['log']}\")"
   ]
  },
  {
   "cell_type": "code",
   "execution_count": null,
   "id": "e0ae3f7e-44c8-4885-a086-1e3a3cdf5505",
   "metadata": {
    "height": 29
   },
   "outputs": [],
   "source": [
    "last_element = len(results) -1 "
   ]
  },
  {
   "cell_type": "code",
   "execution_count": null,
   "id": "6a14c27f-7ec3-4643-89a1-c549f4d4e58a",
   "metadata": {
    "height": 46
   },
   "outputs": [],
   "source": [
    "print(f\"{round(results[last_element]['score'], 4)}\\t{results[last_element]['metadata']['log']}\")"
   ]
  }
 ],
 "metadata": {
  "kernelspec": {
   "display_name": "Python 3 (ipykernel)",
   "language": "python",
   "name": "python3"
  },
  "language_info": {
   "codemirror_mode": {
    "name": "ipython",
    "version": 3
   },
   "file_extension": ".py",
   "mimetype": "text/x-python",
   "name": "python",
   "nbconvert_exporter": "python",
   "pygments_lexer": "ipython3",
   "version": "3.10.13"
  }
 },
 "nbformat": 4,
 "nbformat_minor": 5
}
