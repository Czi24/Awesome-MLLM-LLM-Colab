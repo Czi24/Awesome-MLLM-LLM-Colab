{
 "cells": [
  {
   "cell_type": "markdown",
   "id": "0151deab-ec4e-4738-b9b0-fec2424b2da3",
   "metadata": {},
   "source": [
    "# Lesson 2: Querying Knowledge Graphs with Cypher"
   ]
  },
  {
   "cell_type": "markdown",
   "id": "7dc06c11-a750-4c86-95bb-0cfde30a2ecb",
   "metadata": {},
   "source": [
    "<p style=\"background-color:#fd4a6180; padding:15px; margin-left:20px\"> <b>Note:</b> This notebook takes about 30 seconds to be ready to use. Please wait until the \"Kernel starting, please wait...\" message clears from the top of the notebook before running any cells. You may start the video while you wait.</p>\n"
   ]
  },
  {
   "cell_type": "markdown",
   "id": "74b00a43-df0b-4ead-8de6-2365e8a26f53",
   "metadata": {},
   "source": [
    "### Import packages and set up Neo4"
   ]
  },
  {
   "cell_type": "code",
   "execution_count": null,
   "id": "bc780563-88e7-4c75-92c7-eb34def44a9f",
   "metadata": {
    "height": 149
   },
   "outputs": [],
   "source": [
    "from dotenv import load_dotenv\n",
    "import os\n",
    "\n",
    "from langchain_community.graphs import Neo4jGraph\n",
    "\n",
    "# Warning control\n",
    "import warnings\n",
    "warnings.filterwarnings(\"ignore\")"
   ]
  },
  {
   "cell_type": "code",
   "execution_count": null,
   "id": "186948fd-da5e-49d5-abf4-ad21aed3271f",
   "metadata": {
    "height": 98
   },
   "outputs": [],
   "source": [
    "load_dotenv('.env', override=True)\n",
    "NEO4J_URI = os.getenv('NEO4J_URI')\n",
    "NEO4J_USERNAME = os.getenv('NEO4J_USERNAME')\n",
    "NEO4J_PASSWORD = os.getenv('NEO4J_PASSWORD')\n",
    "NEO4J_DATABASE = os.getenv('NEO4J_DATABASE')"
   ]
  },
  {
   "cell_type": "markdown",
   "id": "7a8affe7-9424-47d4-97c7-0a675fc2398f",
   "metadata": {},
   "source": [
    "- Initialize a knowledge graph instance using LangChain's Neo4j integration"
   ]
  },
  {
   "cell_type": "code",
   "execution_count": null,
   "id": "a5c03340-9078-42b2-9e0a-2dc8495b818f",
   "metadata": {
    "height": 64
   },
   "outputs": [],
   "source": [
    "kg = Neo4jGraph(\n",
    "    url=NEO4J_URI, username=NEO4J_USERNAME, password=NEO4J_PASSWORD, database=NEO4J_DATABASE\n",
    ")"
   ]
  },
  {
   "cell_type": "markdown",
   "id": "a703052f-c74e-4933-8e62-7e3ec9b12986",
   "metadata": {},
   "source": [
    "### Querying the movie knowledge graph \n",
    "- Match all nodes in the graph"
   ]
  },
  {
   "cell_type": "code",
   "execution_count": null,
   "id": "b12cfece-6188-4fa4-8ba6-f0eff39c6546",
   "metadata": {
    "height": 81,
    "scrolled": true
   },
   "outputs": [],
   "source": [
    "cypher = \"\"\"\n",
    "  MATCH (n) \n",
    "  RETURN count(n)\n",
    "  \"\"\""
   ]
  },
  {
   "cell_type": "code",
   "execution_count": null,
   "id": "edef9911-c436-4159-ae6b-412557448b94",
   "metadata": {
    "height": 47,
    "scrolled": true
   },
   "outputs": [],
   "source": [
    "result = kg.query(cypher)\n",
    "result"
   ]
  },
  {
   "cell_type": "code",
   "execution_count": null,
   "id": "751a9532-114d-4f72-8956-da41aa7eae8d",
   "metadata": {
    "height": 81
   },
   "outputs": [],
   "source": [
    "cypher = \"\"\"\n",
    "  MATCH (n) \n",
    "  RETURN count(n) AS numberOfNodes\n",
    "  \"\"\""
   ]
  },
  {
   "cell_type": "code",
   "execution_count": null,
   "id": "4fd44fea-11ab-4828-b475-71bc450ee900",
   "metadata": {
    "height": 47
   },
   "outputs": [],
   "source": [
    "result = kg.query(cypher)\n",
    "result"
   ]
  },
  {
   "cell_type": "code",
   "execution_count": null,
   "id": "4ae04daa-bc4c-42ca-864a-79b3915a234e",
   "metadata": {
    "height": 30
   },
   "outputs": [],
   "source": [
    "print(f\"There are {result[0]['numberOfNodes']} nodes in this graph.\")"
   ]
  },
  {
   "cell_type": "markdown",
   "id": "ef33d57e-7f3a-4d66-b4d0-325973604906",
   "metadata": {},
   "source": [
    "- Match only the `Movie` nodes by specifying the node label"
   ]
  },
  {
   "cell_type": "code",
   "execution_count": null,
   "id": "7ebd1092-e6d4-4112-aac9-ce2af1eaa737",
   "metadata": {
    "height": 98
   },
   "outputs": [],
   "source": [
    "cypher = \"\"\"\n",
    "  MATCH (n:Movie) \n",
    "  RETURN count(n) AS numberOfMovies\n",
    "  \"\"\"\n",
    "kg.query(cypher)"
   ]
  },
  {
   "cell_type": "markdown",
   "id": "78ca792e-831f-4f1a-b728-92928d41e9b6",
   "metadata": {},
   "source": [
    "- Change the variable name in the node pattern match for improved readability"
   ]
  },
  {
   "cell_type": "code",
   "execution_count": null,
   "id": "26b1ed1f-c780-4de8-8c96-5594bc8b63af",
   "metadata": {
    "height": 98
   },
   "outputs": [],
   "source": [
    "cypher = \"\"\"\n",
    "  MATCH (m:Movie) \n",
    "  RETURN count(m) AS numberOfMovies\n",
    "  \"\"\"\n",
    "kg.query(cypher)"
   ]
  },
  {
   "cell_type": "markdown",
   "id": "b0534a64-f4c0-4e22-a79d-cce5ef595aa3",
   "metadata": {},
   "source": [
    "- Match only the `Person` nodes"
   ]
  },
  {
   "cell_type": "code",
   "execution_count": null,
   "id": "5b7d6465-19a7-4f0c-b2a3-f32fd5991c46",
   "metadata": {
    "height": 98,
    "scrolled": true
   },
   "outputs": [],
   "source": [
    "cypher = \"\"\"\n",
    "  MATCH (people:Person) \n",
    "  RETURN count(people) AS numberOfPeople\n",
    "  \"\"\"\n",
    "kg.query(cypher)"
   ]
  },
  {
   "cell_type": "markdown",
   "id": "209a950f-3335-4a47-801c-53a821529cc7",
   "metadata": {},
   "source": [
    "- Match a single person by specifying the value of the `name` property on the `Person` node"
   ]
  },
  {
   "cell_type": "code",
   "execution_count": null,
   "id": "1c1f5e93-39dc-4585-ba3a-2cd492cbf665",
   "metadata": {
    "height": 98
   },
   "outputs": [],
   "source": [
    "cypher = \"\"\"\n",
    "  MATCH (tom:Person {name:\"Tom Hanks\"}) \n",
    "  RETURN tom\n",
    "  \"\"\"\n",
    "kg.query(cypher)"
   ]
  },
  {
   "cell_type": "markdown",
   "id": "936ee283-90ba-4ada-92b2-dd7c6bccfdc9",
   "metadata": {},
   "source": [
    "- Match a single `Movie` by specifying the value of the `title` property"
   ]
  },
  {
   "cell_type": "code",
   "execution_count": null,
   "id": "d952bf0c-d2c0-4b64-86b5-29e2521f543e",
   "metadata": {
    "height": 98
   },
   "outputs": [],
   "source": [
    "cypher = \"\"\"\n",
    "  MATCH (cloudAtlas:Movie {title:\"Cloud Atlas\"}) \n",
    "  RETURN cloudAtlas\n",
    "  \"\"\"\n",
    "kg.query(cypher)"
   ]
  },
  {
   "cell_type": "markdown",
   "id": "3f6debaf-f237-4b75-b18c-5ff56ccca780",
   "metadata": {},
   "source": [
    "- Return only the `released` property of the matched `Movie` node"
   ]
  },
  {
   "cell_type": "code",
   "execution_count": null,
   "id": "2c9d8fc2-4fc7-4e85-8ced-e3f0236e6b2f",
   "metadata": {
    "height": 98
   },
   "outputs": [],
   "source": [
    "cypher = \"\"\"\n",
    "  MATCH (cloudAtlas:Movie {title:\"Cloud Atlas\"}) \n",
    "  RETURN cloudAtlas.released\n",
    "  \"\"\"\n",
    "kg.query(cypher)"
   ]
  },
  {
   "cell_type": "markdown",
   "id": "00e73a39-882c-4060-926e-deb484a4358f",
   "metadata": {},
   "source": [
    "- Return two properties"
   ]
  },
  {
   "cell_type": "code",
   "execution_count": null,
   "id": "64ad1276-c1cc-49d6-b7e9-d7126a37fabc",
   "metadata": {
    "height": 98
   },
   "outputs": [],
   "source": [
    "cypher = \"\"\"\n",
    "  MATCH (cloudAtlas:Movie {title:\"Cloud Atlas\"}) \n",
    "  RETURN cloudAtlas.released, cloudAtlas.tagline\n",
    "  \"\"\"\n",
    "kg.query(cypher)"
   ]
  },
  {
   "cell_type": "markdown",
   "id": "689be729-367a-408b-b4e5-43d2a3d69744",
   "metadata": {},
   "source": [
    "### Cypher patterns with conditional matching"
   ]
  },
  {
   "cell_type": "code",
   "execution_count": null,
   "id": "fc7b4d4d-764e-4b83-ae7c-0f7717de85f2",
   "metadata": {
    "height": 132
   },
   "outputs": [],
   "source": [
    "cypher = \"\"\"\n",
    "  MATCH (nineties:Movie) \n",
    "  WHERE nineties.released >= 1990 \n",
    "    AND nineties.released < 2000 \n",
    "  RETURN nineties.title\n",
    "  \"\"\"\n"
   ]
  },
  {
   "cell_type": "code",
   "execution_count": null,
   "id": "c52524e8-c4b2-443a-9e4b-01c50f0be352",
   "metadata": {
    "height": 30
   },
   "outputs": [],
   "source": [
    "kg.query(cypher)"
   ]
  },
  {
   "cell_type": "markdown",
   "id": "d176b9d2-ec33-423a-b3de-e9bc87810fe7",
   "metadata": {},
   "source": [
    "### Pattern matching with multiple nodes"
   ]
  },
  {
   "cell_type": "code",
   "execution_count": null,
   "id": "dd8ae45b-c131-4e39-a937-704855cbdd74",
   "metadata": {
    "height": 98
   },
   "outputs": [],
   "source": [
    "cypher = \"\"\"\n",
    "  MATCH (actor:Person)-[:ACTED_IN]->(movie:Movie) \n",
    "  RETURN actor.name, movie.title LIMIT 10\n",
    "  \"\"\"\n",
    "kg.query(cypher)"
   ]
  },
  {
   "cell_type": "code",
   "execution_count": null,
   "id": "e79dd7e8-a778-467e-b6d9-ba6af8eee5bf",
   "metadata": {
    "height": 98
   },
   "outputs": [],
   "source": [
    "cypher = \"\"\"\n",
    "  MATCH (tom:Person {name: \"Tom Hanks\"})-[:ACTED_IN]->(tomHanksMovies:Movie) \n",
    "  RETURN tom.name,tomHanksMovies.title\n",
    "  \"\"\"\n",
    "kg.query(cypher)"
   ]
  },
  {
   "cell_type": "code",
   "execution_count": null,
   "id": "004147cc-14f4-43eb-86ff-d22e11a1d0d2",
   "metadata": {
    "height": 98
   },
   "outputs": [],
   "source": [
    "cypher = \"\"\"\n",
    "  MATCH (tom:Person {name:\"Tom Hanks\"})-[:ACTED_IN]->(m)<-[:ACTED_IN]-(coActors) \n",
    "  RETURN coActors.name, m.title\n",
    "  \"\"\"\n",
    "kg.query(cypher)"
   ]
  },
  {
   "cell_type": "markdown",
   "id": "2ad3f683-d334-4c4e-b274-9789a70b9662",
   "metadata": {},
   "source": [
    "### Delete data from the graph"
   ]
  },
  {
   "cell_type": "code",
   "execution_count": null,
   "id": "5064cab8-b5d6-4f1c-b5ef-f154f5c10b2b",
   "metadata": {
    "height": 98
   },
   "outputs": [],
   "source": [
    "cypher = \"\"\"\n",
    "MATCH (emil:Person {name:\"Emil Eifrem\"})-[actedIn:ACTED_IN]->(movie:Movie)\n",
    "RETURN emil.name, movie.title\n",
    "\"\"\"\n",
    "kg.query(cypher)"
   ]
  },
  {
   "cell_type": "code",
   "execution_count": null,
   "id": "648d12d1-0966-46ff-ad77-080eae553c3a",
   "metadata": {
    "height": 98
   },
   "outputs": [],
   "source": [
    "cypher = \"\"\"\n",
    "MATCH (emil:Person {name:\"Emil Eifrem\"})-[actedIn:ACTED_IN]->(movie:Movie)\n",
    "DELETE actedIn\n",
    "\"\"\"\n",
    "kg.query(cypher)"
   ]
  },
  {
   "cell_type": "markdown",
   "id": "109de94e-3526-4dad-9a62-1beb6c5dad2d",
   "metadata": {},
   "source": [
    "### Adding data to the graph"
   ]
  },
  {
   "cell_type": "code",
   "execution_count": null,
   "id": "ed1665da-b9ec-4b81-9e1f-de19af49d0d8",
   "metadata": {
    "height": 115
   },
   "outputs": [],
   "source": [
    "cypher = \"\"\"\n",
    "CREATE (andreas:Person {name:\"Andreas\"})\n",
    "RETURN andreas\n",
    "\"\"\"\n",
    "\n",
    "kg.query(cypher)"
   ]
  },
  {
   "cell_type": "code",
   "execution_count": null,
   "id": "1a0b9bb9-4491-45e2-9a4d-2306ea0a2bd8",
   "metadata": {
    "height": 115
   },
   "outputs": [],
   "source": [
    "cypher = \"\"\"\n",
    "MATCH (andreas:Person {name:\"Andreas\"}), (emil:Person {name:\"Emil Eifrem\"})\n",
    "MERGE (andreas)-[hasRelationship:WORKS_WITH]->(emil)\n",
    "RETURN andreas, hasRelationship, emil\n",
    "\"\"\"\n",
    "kg.query(cypher)"
   ]
  }
 ],
 "metadata": {
  "kernelspec": {
   "display_name": "Python 3 (ipykernel)",
   "language": "python",
   "name": "python3"
  },
  "language_info": {
   "codemirror_mode": {
    "name": "ipython",
    "version": 3
   },
   "file_extension": ".py",
   "mimetype": "text/x-python",
   "name": "python",
   "nbconvert_exporter": "python",
   "pygments_lexer": "ipython3",
   "version": "3.11.9"
  }
 },
 "nbformat": 4,
 "nbformat_minor": 5
}
