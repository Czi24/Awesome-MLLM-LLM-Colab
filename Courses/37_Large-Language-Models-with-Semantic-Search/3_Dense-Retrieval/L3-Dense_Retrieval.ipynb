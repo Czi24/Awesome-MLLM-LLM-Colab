{
 "cells": [
  {
   "cell_type": "markdown",
   "id": "272e659b",
   "metadata": {},
   "source": [
    "# Dense Retrieval"
   ]
  },
  {
   "cell_type": "markdown",
   "id": "a00e3a75",
   "metadata": {},
   "source": [
    "## Setup\n",
    "\n",
    "Load needed API keys and relevant Python libaries."
   ]
  },
  {
   "cell_type": "code",
   "execution_count": null,
   "id": "84214662",
   "metadata": {
    "height": 46
   },
   "outputs": [],
   "source": [
    "# !pip install cohere \n",
    "# !pip install weaviate-client Annoy"
   ]
  },
  {
   "cell_type": "code",
   "execution_count": null,
   "id": "e876e494-818f-439e-a1be-b50535cf09f5",
   "metadata": {
    "height": 63
   },
   "outputs": [],
   "source": [
    "import os\n",
    "from dotenv import load_dotenv, find_dotenv\n",
    "_ = load_dotenv(find_dotenv()) # read local .env file"
   ]
  },
  {
   "cell_type": "code",
   "execution_count": null,
   "id": "dc7f9f83-c295-4114-aca4-8b0ddbc64ddb",
   "metadata": {
    "height": 46
   },
   "outputs": [],
   "source": [
    "import cohere\n",
    "co = cohere.Client(os.environ['COHERE_API_KEY'])"
   ]
  },
  {
   "cell_type": "code",
   "execution_count": null,
   "id": "cfa7aa9f-e3e8-44d9-a4ac-461d71d8c7f4",
   "metadata": {
    "height": 63
   },
   "outputs": [],
   "source": [
    "import weaviate\n",
    "auth_config = weaviate.auth.AuthApiKey(\n",
    "    api_key=os.environ['WEAVIATE_API_KEY'])"
   ]
  },
  {
   "cell_type": "code",
   "execution_count": null,
   "id": "d8474f81-011c-485a-9f24-827f81165fee",
   "metadata": {
    "height": 148
   },
   "outputs": [],
   "source": [
    "client = weaviate.Client(\n",
    "    url=os.environ['WEAVIATE_API_URL'],\n",
    "    auth_client_secret=auth_config,\n",
    "    additional_headers={\n",
    "        \"X-Cohere-Api-Key\": os.environ['COHERE_API_KEY'],\n",
    "    }\n",
    ")\n",
    "client.is_ready() #check if True"
   ]
  },
  {
   "cell_type": "markdown",
   "id": "75df20b5",
   "metadata": {},
   "source": [
    "## Part 1: Vector Database for semantic Search"
   ]
  },
  {
   "cell_type": "code",
   "execution_count": null,
   "id": "1a44f246-2fdb-4986-9a23-401f22825647",
   "metadata": {
    "height": 454
   },
   "outputs": [],
   "source": [
    "def dense_retrieval(query, \n",
    "                    results_lang='en', \n",
    "                    properties = [\"text\", \"title\", \"url\", \"views\", \"lang\", \"_additional {distance}\"],\n",
    "                    num_results=5):\n",
    "\n",
    "    nearText = {\"concepts\": [query]}\n",
    "    \n",
    "    # To filter by language\n",
    "    where_filter = {\n",
    "    \"path\": [\"lang\"],\n",
    "    \"operator\": \"Equal\",\n",
    "    \"valueString\": results_lang\n",
    "    }\n",
    "    response = (\n",
    "        client.query\n",
    "        .get(\"Articles\", properties)\n",
    "        .with_near_text(nearText)\n",
    "        .with_where(where_filter)\n",
    "        .with_limit(num_results)\n",
    "        .do()\n",
    "    )\n",
    "\n",
    "    result = response['data']['Get']['Articles']\n",
    "\n",
    "    return result"
   ]
  },
  {
   "cell_type": "code",
   "execution_count": null,
   "id": "3c7d2791",
   "metadata": {
    "height": 29
   },
   "outputs": [],
   "source": [
    "from utils import print_result"
   ]
  },
  {
   "cell_type": "markdown",
   "id": "344956dc",
   "metadata": {},
   "source": [
    "### Bacic Query"
   ]
  },
  {
   "cell_type": "code",
   "execution_count": null,
   "id": "ca9b7b93-dfcc-464a-ac9e-41bfa8117a99",
   "metadata": {
    "height": 63
   },
   "outputs": [],
   "source": [
    "query = \"Who wrote Hamlet?\"\n",
    "dense_retrieval_results = dense_retrieval(query)\n",
    "print_result(dense_retrieval_results)"
   ]
  },
  {
   "cell_type": "markdown",
   "id": "319111ec",
   "metadata": {},
   "source": [
    "### Medium Query"
   ]
  },
  {
   "cell_type": "code",
   "execution_count": null,
   "id": "1c1145db-f3c0-4178-8f76-69bd78a8b779",
   "metadata": {
    "height": 63,
    "jupyter": {
     "outputs_hidden": true
    }
   },
   "outputs": [],
   "source": [
    "query = \"What is the capital of Canada?\"\n",
    "dense_retrieval_results = dense_retrieval(query)\n",
    "print_result(dense_retrieval_results)"
   ]
  },
  {
   "cell_type": "code",
   "execution_count": null,
   "id": "dda4f775-d95a-4408-872b-a0d9cf0c7a68",
   "metadata": {
    "height": 97,
    "jupyter": {
     "outputs_hidden": true
    }
   },
   "outputs": [],
   "source": [
    "from utils import keyword_search\n",
    "\n",
    "query = \"What is the capital of Canada?\"\n",
    "keyword_search_results = keyword_search(query, client)\n",
    "print_result(keyword_search_results)"
   ]
  },
  {
   "cell_type": "markdown",
   "id": "529e8a97",
   "metadata": {},
   "source": [
    "### Complicated Query"
   ]
  },
  {
   "cell_type": "code",
   "execution_count": null,
   "id": "9deb9d52-6da8-48f3-92e2-baf922afdbb9",
   "metadata": {
    "height": 97
   },
   "outputs": [],
   "source": [
    "from utils import keyword_search\n",
    "\n",
    "query = \"Tallest person in history?\"\n",
    "keyword_search_results = keyword_search(query, client)\n",
    "print_result(keyword_search_results)"
   ]
  },
  {
   "cell_type": "code",
   "execution_count": null,
   "id": "334fd577-5832-4ccc-9ac1-1ed32c6913ab",
   "metadata": {
    "height": 63,
    "jupyter": {
     "outputs_hidden": true
    }
   },
   "outputs": [],
   "source": [
    "query = \"Tallest person in history\"\n",
    "dense_retrieval_results = dense_retrieval(query)\n",
    "print_result(dense_retrieval_results)"
   ]
  },
  {
   "cell_type": "code",
   "execution_count": null,
   "id": "a52ea636-1343-4587-85ce-0c291e5fecbc",
   "metadata": {
    "height": 63,
    "jupyter": {
     "outputs_hidden": true
    }
   },
   "outputs": [],
   "source": [
    "query = \"أطول رجل في التاريخ\"\n",
    "dense_retrieval_results = dense_retrieval(query)\n",
    "print_result(dense_retrieval_results)"
   ]
  },
  {
   "cell_type": "code",
   "execution_count": null,
   "id": "134a5df0-3b43-4f03-8078-cfad28dcbaf5",
   "metadata": {
    "height": 63,
    "jupyter": {
     "outputs_hidden": true
    }
   },
   "outputs": [],
   "source": [
    "query = \"film about a time travel paradox\"\n",
    "dense_retrieval_results = dense_retrieval(query)\n",
    "print_result(dense_retrieval_results)"
   ]
  },
  {
   "cell_type": "markdown",
   "id": "d3ed0397",
   "metadata": {},
   "source": [
    "## Part 2: Building Semantic Search from Scratch\n",
    "\n",
    "### Get the text archive:"
   ]
  },
  {
   "cell_type": "code",
   "execution_count": null,
   "id": "b1782247-3b70-4698-8863-7b2e73b10bb5",
   "metadata": {
    "height": 80
   },
   "outputs": [],
   "source": [
    "from annoy import AnnoyIndex\n",
    "import numpy as np\n",
    "import pandas as pd\n",
    "import re"
   ]
  },
  {
   "cell_type": "code",
   "execution_count": null,
   "id": "664b5661-8e1c-4858-bbd9-5370737318e0",
   "metadata": {
    "height": 318
   },
   "outputs": [],
   "source": [
    "text = \"\"\"\n",
    "Interstellar is a 2014 epic science fiction film co-written, directed, and produced by Christopher Nolan.\n",
    "It stars Matthew McConaughey, Anne Hathaway, Jessica Chastain, Bill Irwin, Ellen Burstyn, Matt Damon, and Michael Caine.\n",
    "Set in a dystopian future where humanity is struggling to survive, the film follows a group of astronauts who travel through a wormhole near Saturn in search of a new home for mankind.\n",
    "\n",
    "Brothers Christopher and Jonathan Nolan wrote the screenplay, which had its origins in a script Jonathan developed in 2007.\n",
    "Caltech theoretical physicist and 2017 Nobel laureate in Physics[4] Kip Thorne was an executive producer, acted as a scientific consultant, and wrote a tie-in book, The Science of Interstellar.\n",
    "Cinematographer Hoyte van Hoytema shot it on 35 mm movie film in the Panavision anamorphic format and IMAX 70 mm.\n",
    "Principal photography began in late 2013 and took place in Alberta, Iceland, and Los Angeles.\n",
    "Interstellar uses extensive practical and miniature effects and the company Double Negative created additional digital effects.\n",
    "\n",
    "Interstellar premiered on October 26, 2014, in Los Angeles.\n",
    "In the United States, it was first released on film stock, expanding to venues using digital projectors.\n",
    "The film had a worldwide gross over $677 million (and $773 million with subsequent re-releases), making it the tenth-highest grossing film of 2014.\n",
    "It received acclaim for its performances, direction, screenplay, musical score, visual effects, ambition, themes, and emotional weight.\n",
    "It has also received praise from many astronomers for its scientific accuracy and portrayal of theoretical astrophysics. Since its premiere, Interstellar gained a cult following,[5] and now is regarded by many sci-fi experts as one of the best science-fiction films of all time.\n",
    "Interstellar was nominated for five awards at the 87th Academy Awards, winning Best Visual Effects, and received numerous other accolades\"\"\""
   ]
  },
  {
   "cell_type": "markdown",
   "id": "55f38f89",
   "metadata": {},
   "source": [
    "### Chunking: "
   ]
  },
  {
   "cell_type": "code",
   "execution_count": null,
   "id": "44d495f8-8db7-4aee-bfe6-5f3cd46b2217",
   "metadata": {
    "height": 97
   },
   "outputs": [],
   "source": [
    "# Split into a list of sentences\n",
    "texts = text.split('.')\n",
    "\n",
    "# Clean up to remove empty spaces and new lines\n",
    "texts = np.array([t.strip(' \\n') for t in texts])"
   ]
  },
  {
   "cell_type": "code",
   "execution_count": null,
   "id": "c378fcac-9b19-451c-ab68-8c6b69b7ac2d",
   "metadata": {
    "height": 29
   },
   "outputs": [],
   "source": [
    "texts"
   ]
  },
  {
   "cell_type": "code",
   "execution_count": null,
   "id": "3f850709",
   "metadata": {
    "height": 97
   },
   "outputs": [],
   "source": [
    "# Split into a list of paragraphs\n",
    "texts = text.split('\\n\\n')\n",
    "\n",
    "# Clean up to remove empty spaces and new lines\n",
    "texts = np.array([t.strip(' \\n') for t in texts])"
   ]
  },
  {
   "cell_type": "code",
   "execution_count": null,
   "id": "7b41bc71",
   "metadata": {
    "height": 29
   },
   "outputs": [],
   "source": [
    "texts"
   ]
  },
  {
   "cell_type": "code",
   "execution_count": null,
   "id": "4f4e167d",
   "metadata": {
    "height": 97
   },
   "outputs": [],
   "source": [
    "# Split into a list of sentences\n",
    "texts = text.split('.')\n",
    "\n",
    "# Clean up to remove empty spaces and new lines\n",
    "texts = np.array([t.strip(' \\n') for t in texts])"
   ]
  },
  {
   "cell_type": "code",
   "execution_count": null,
   "id": "907ad923-a086-4746-b3c8-bdd7e5ff30ad",
   "metadata": {
    "height": 63
   },
   "outputs": [],
   "source": [
    "title = 'Interstellar (film)'\n",
    "\n",
    "texts = np.array([f\"{title} {t}\" for t in texts])"
   ]
  },
  {
   "cell_type": "code",
   "execution_count": null,
   "id": "630eb9b9-eced-4716-8684-ad028a437057",
   "metadata": {
    "height": 29
   },
   "outputs": [],
   "source": [
    "texts"
   ]
  },
  {
   "cell_type": "markdown",
   "id": "3a26b43a",
   "metadata": {},
   "source": [
    "### Get the embeddings:"
   ]
  },
  {
   "cell_type": "code",
   "execution_count": null,
   "id": "fbbc0303-e929-4eb4-aa95-0c41042e19c9",
   "metadata": {
    "height": 63
   },
   "outputs": [],
   "source": [
    "response = co.embed(\n",
    "    texts=texts.tolist()\n",
    ").embeddings"
   ]
  },
  {
   "cell_type": "code",
   "execution_count": null,
   "id": "84d7961f-5075-4549-84ac-a013d875b709",
   "metadata": {
    "height": 46
   },
   "outputs": [],
   "source": [
    "embeds = np.array(response)\n",
    "embeds.shape"
   ]
  },
  {
   "cell_type": "markdown",
   "id": "39e19dee",
   "metadata": {},
   "source": [
    "### Create the search index:"
   ]
  },
  {
   "cell_type": "code",
   "execution_count": null,
   "id": "7cadadeb-f74f-4145-8a62-de184ffd9ead",
   "metadata": {
    "height": 131
   },
   "outputs": [],
   "source": [
    "search_index = AnnoyIndex(embeds.shape[1], 'angular')\n",
    "# Add all the vectors to the search index\n",
    "for i in range(len(embeds)):\n",
    "    search_index.add_item(i, embeds[i])\n",
    "\n",
    "search_index.build(10) # 10 trees\n",
    "search_index.save('test.ann')"
   ]
  },
  {
   "cell_type": "code",
   "execution_count": null,
   "id": "86e7267a-d130-4ee2-8498-4ba2ad2eebd0",
   "metadata": {
    "height": 335
   },
   "outputs": [],
   "source": [
    "pd.set_option('display.max_colwidth', None)\n",
    "\n",
    "def search(query):\n",
    "\n",
    "  # Get the query's embedding\n",
    "  query_embed = co.embed(texts=[query]).embeddings\n",
    "\n",
    "  # Retrieve the nearest neighbors\n",
    "  similar_item_ids = search_index.get_nns_by_vector(query_embed[0],\n",
    "                                                    3,\n",
    "                                                  include_distances=True)\n",
    "  # Format the results\n",
    "  results = pd.DataFrame(data={'texts': texts[similar_item_ids[0]],\n",
    "                              'distance': similar_item_ids[1]})\n",
    "\n",
    "  print(texts[similar_item_ids[0]])\n",
    "    \n",
    "  return results"
   ]
  },
  {
   "cell_type": "code",
   "execution_count": null,
   "id": "6b932b43-5fa4-4f23-a627-29deb80f0bd0",
   "metadata": {
    "height": 46
   },
   "outputs": [],
   "source": [
    "query = \"How much did the film make?\"\n",
    "search(query)"
   ]
  },
  {
   "cell_type": "code",
   "execution_count": null,
   "id": "a1e4c088-aecd-4e7d-9475-79fdf4f1e3ff",
   "metadata": {
    "height": 29
   },
   "outputs": [],
   "source": []
  },
  {
   "cell_type": "code",
   "execution_count": null,
   "id": "e3502566-f976-4f29-9ac3-ceb8251506f3",
   "metadata": {
    "height": 29
   },
   "outputs": [],
   "source": []
  },
  {
   "cell_type": "code",
   "execution_count": null,
   "id": "b8301f90-f6e8-4f2e-a3f0-c528824e797a",
   "metadata": {
    "height": 29
   },
   "outputs": [],
   "source": []
  },
  {
   "cell_type": "code",
   "execution_count": null,
   "id": "72b88367-b571-4e50-aa4f-c754fc31ab7f",
   "metadata": {
    "height": 29
   },
   "outputs": [],
   "source": []
  },
  {
   "cell_type": "code",
   "execution_count": null,
   "id": "d0e71d39-8f59-4d0e-a2fd-aa0eb0cd1b84",
   "metadata": {
    "height": 29
   },
   "outputs": [],
   "source": []
  },
  {
   "cell_type": "code",
   "execution_count": null,
   "id": "ded6ecfa-91f4-48c2-9237-6904f7f630d4",
   "metadata": {
    "height": 29
   },
   "outputs": [],
   "source": []
  },
  {
   "cell_type": "code",
   "execution_count": null,
   "id": "87ef1f57-be42-47aa-a132-0731aeaef4fc",
   "metadata": {
    "height": 29
   },
   "outputs": [],
   "source": []
  },
  {
   "cell_type": "code",
   "execution_count": null,
   "id": "aed0699a-ce3c-4529-b596-b17ff9da51e1",
   "metadata": {
    "height": 29
   },
   "outputs": [],
   "source": []
  },
  {
   "cell_type": "code",
   "execution_count": null,
   "id": "b0e5ddb7-41fa-4eae-b077-2264be76c258",
   "metadata": {
    "height": 29
   },
   "outputs": [],
   "source": []
  },
  {
   "cell_type": "code",
   "execution_count": null,
   "id": "5821387b-fd64-4e12-8541-d7bca94ba9d9",
   "metadata": {
    "height": 29
   },
   "outputs": [],
   "source": []
  },
  {
   "cell_type": "code",
   "execution_count": null,
   "id": "f96720ad-4b11-4038-b7a4-0d2ea5a34379",
   "metadata": {
    "height": 29
   },
   "outputs": [],
   "source": []
  }
 ],
 "metadata": {
  "kernelspec": {
   "display_name": "Python 3 (ipykernel)",
   "language": "python",
   "name": "python3"
  },
  "language_info": {
   "codemirror_mode": {
    "name": "ipython",
    "version": 3
   },
   "file_extension": ".py",
   "mimetype": "text/x-python",
   "name": "python",
   "nbconvert_exporter": "python",
   "pygments_lexer": "ipython3",
   "version": "3.9.19"
  }
 },
 "nbformat": 4,
 "nbformat_minor": 5
}
