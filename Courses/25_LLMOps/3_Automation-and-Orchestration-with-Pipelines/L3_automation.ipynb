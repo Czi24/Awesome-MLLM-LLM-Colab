{
 "cells": [
  {
   "cell_type": "markdown",
   "id": "5cf11017-90e6-42ef-93cb-b6b676f514a3",
   "metadata": {},
   "source": [
    "# L3: Automation"
   ]
  },
  {
   "cell_type": "markdown",
   "id": "951d6585-d38d-4deb-9494-1706fc9253d9",
   "metadata": {},
   "source": [
    "- You will use [Kubeflow Pipelines](https://www.kubeflow.org/docs/components/pipelines/v2/) to orchestrat and automate a workflow. \n",
    "- Kubeflow Pipelines is an open source framework. It's like a construction kit for building machine learning pipelines, making it easy to orchestrate and automate complex tasks. "
   ]
  },
  {
   "cell_type": "code",
   "execution_count": null,
   "id": "a2fcd000-f502-47e5-b0db-809b9555f93e",
   "metadata": {
    "height": 148
   },
   "outputs": [],
   "source": [
    "from kfp import dsl\n",
    "from kfp import compiler\n",
    "\n",
    "# Ignore FutureWarnings in kfp\n",
    "import warnings\n",
    "warnings.filterwarnings(\"ignore\", \n",
    "                        category=FutureWarning, \n",
    "                        module='kfp.*')"
   ]
  },
  {
   "cell_type": "markdown",
   "id": "294daf3a-41d6-4db2-84b0-bdab8f2acc0c",
   "metadata": {},
   "source": [
    "## Kubeflow Pipelines\n",
    "\n",
    "- Kubeflow pipelines consist of two key concepts: Components and pipelines.\n",
    "- Pipeline components are like self-contained sets of code that perform various steps in your ML workflow, such as, the first step could be preprocessing data, and second step could betraining a model.\n",
    "\n",
    "### Simple Pipeline Example \n",
    "\n",
    "##### Build the pipeline"
   ]
  },
  {
   "cell_type": "code",
   "execution_count": null,
   "id": "adb4746f-21e0-4bb2-9e95-75aae4a0d1e3",
   "metadata": {
    "height": 114,
    "tags": []
   },
   "outputs": [],
   "source": [
    "### Simple example: component 1\n",
    "@dsl.component\n",
    "def say_hello(name: str) -> str:\n",
    "    hello_text = f'Hello, {name}!'\n",
    "    \n",
    "    return hello_text"
   ]
  },
  {
   "cell_type": "markdown",
   "id": "b7cae0bd-91d1-453a-a307-fd06126449a7",
   "metadata": {},
   "source": [
    "- Since we \"wrapped\" this `say_hello` function in the decorator `@dsl.component`, the function will not actually return a string.\n",
    "- The function will return a `PipelineTask` object."
   ]
  },
  {
   "cell_type": "code",
   "execution_count": null,
   "id": "112251c7-9c87-45cd-acff-de847a3c7208",
   "metadata": {
    "height": 46
   },
   "outputs": [],
   "source": [
    "hello_task = say_hello(name=\"Erwin\")\n",
    "print(hello_task)"
   ]
  },
  {
   "cell_type": "markdown",
   "id": "122a9205-934e-4b4e-b5c7-f832b6debadf",
   "metadata": {},
   "source": [
    "- The object that we'll use to pass the information in `hello_text` to other components in the pipeline is `PipelineTask.output`, which will be a built-in data type:\n",
    "> `['String', 'Integer', 'Float', 'Boolean', 'List', 'Dict']`"
   ]
  },
  {
   "cell_type": "code",
   "execution_count": null,
   "id": "587b68a5-b6ec-4ebd-8a46-034684458d9f",
   "metadata": {
    "height": 29
   },
   "outputs": [],
   "source": [
    "print(hello_task.output)"
   ]
  },
  {
   "cell_type": "markdown",
   "id": "701f75c7-e91a-4bed-beaa-e67dbb88953a",
   "metadata": {},
   "source": [
    "- Note when passing in values to the a `dsl.component` function, you have to specify the argument names (keyword arguments), and can't use positional arguments."
   ]
  },
  {
   "cell_type": "code",
   "execution_count": null,
   "id": "419b5972-244e-461f-ae64-bea32ed96a8e",
   "metadata": {
    "height": 63
   },
   "outputs": [],
   "source": [
    "# this will give an error and ask you to specify the parameter name\n",
    "hello_task = say_hello(\"Erwin\")"
   ]
  },
  {
   "cell_type": "markdown",
   "id": "8ea89276-bd5d-4ef3-b284-940678c18792",
   "metadata": {},
   "source": [
    "- The second component is dependent on the first component\n",
    "- Take the output of the first component and pass it to the second component."
   ]
  },
  {
   "cell_type": "code",
   "execution_count": null,
   "id": "9d0df10f-ba15-4ab5-ae30-79d128d03770",
   "metadata": {
    "height": 131,
    "tags": []
   },
   "outputs": [],
   "source": [
    "### Simple example: component 2\n",
    "@dsl.component\n",
    "def how_are_you(hello_text: str) -> str:\n",
    "    \n",
    "    how_are_you = f\"{hello_text}. How are you?\"\n",
    "    \n",
    "    return how_are_you"
   ]
  },
  {
   "cell_type": "markdown",
   "id": "b256fd9e-17e3-463c-b651-6c6d80dfdd46",
   "metadata": {},
   "source": [
    "- Notice that when we pass in the return value from the `say_hello` function, we want to pass in the PipelineTask.output object, and not the PipelineTask object itself."
   ]
  },
  {
   "cell_type": "code",
   "execution_count": null,
   "id": "a018a4c9-2436-401e-9bd4-8332c0b26fbd",
   "metadata": {
    "height": 63
   },
   "outputs": [],
   "source": [
    "how_task = how_are_you(hello_text=hello_task.output)\n",
    "print(how_task)\n",
    "print(how_task.output)"
   ]
  },
  {
   "cell_type": "code",
   "execution_count": null,
   "id": "5c28a7e9-21c1-48b8-8c45-c6b70e83e274",
   "metadata": {
    "height": 97
   },
   "outputs": [],
   "source": [
    "# This will give an error and ask you to pass in a built-in data type\n",
    "how_task = how_are_you(hello_text=hello_task)\n",
    "print(how_task)\n",
    "print(how_task.output)"
   ]
  },
  {
   "cell_type": "markdown",
   "id": "6eabdac2-d9e5-4b69-a80a-6da0320e67ad",
   "metadata": {},
   "source": [
    "- Define the pipeline.\n",
    "- Notice how the input to `say_hello` is just `recipient`, since that is already a built-in data type (a String).\n",
    "- Recall that to get the value from a PipelineTask object, you'll use `PipelineTask.output` to pass in that value to another Pipeline Component function.\n",
    "- Notice that Pipeline function should return the PipelineTask.output as well."
   ]
  },
  {
   "cell_type": "code",
   "execution_count": null,
   "id": "75a4e200-a1a6-4262-a2af-565a535a5160",
   "metadata": {
    "height": 216,
    "tags": []
   },
   "outputs": [],
   "source": [
    "### Simple example: pipeline\n",
    "@dsl.pipeline\n",
    "def hello_pipeline(recipient: str) -> str:\n",
    "    \n",
    "    # notice, just recipient and not recipient.output\n",
    "    hello_task = say_hello(name=recipient)\n",
    "    \n",
    "    # notice .output\n",
    "    how_task = how_are_you(hello_text=hello_task.output)\n",
    "    \n",
    "    # notice .output\n",
    "    return how_task.output "
   ]
  },
  {
   "cell_type": "markdown",
   "id": "1fb31ba0-14a7-4be1-a9c7-8579cea026ed",
   "metadata": {},
   "source": [
    "- If you run this pipeline function, you'll see that the return value (`task.output` was a String) is again wrapped inside a PipelineTask object."
   ]
  },
  {
   "cell_type": "code",
   "execution_count": null,
   "id": "57a7c498-f58d-430d-8f55-a453acdfa210",
   "metadata": {
    "height": 46
   },
   "outputs": [],
   "source": [
    "pipeline_output = hello_pipeline(recipient=\"Erwin\")\n",
    "print(pipeline_output)"
   ]
  },
  {
   "cell_type": "markdown",
   "id": "359a70ee-191d-4f7f-ae90-8f1fc1dc40f7",
   "metadata": {},
   "source": [
    "- Note that if you tried to return a PipelineTask object instead of the PipelineTask.output, you'd get an error message"
   ]
  },
  {
   "cell_type": "code",
   "execution_count": null,
   "id": "e0832380-3898-4f42-85f4-81d3c4c77f07",
   "metadata": {
    "height": 182
   },
   "outputs": [],
   "source": [
    "### Pipeline with wrong return value type\n",
    "@dsl.pipeline\n",
    "def hello_pipeline_with_error(recipient: str) -> str:\n",
    "    hello_task = say_hello(name=recipient)\n",
    "    how_task = how_are_you(hello_text=hello_task.output)\n",
    "\n",
    "    return how_task \n",
    "    # returning the PipelineTask object itself will give you an error\n",
    "        "
   ]
  },
  {
   "cell_type": "markdown",
   "id": "5c8f4c9a-ef44-45d1-8474-4aa0ed805180",
   "metadata": {},
   "source": [
    "##### Implement the pipeline\n",
    "\n",
    "- A pipeline is a set of components that you orchestrate.\n",
    "- It lets you define the order of execution and how data flows from one step to another.\n",
    "- Compile the pipeline into a yaml file, `pipeline.yaml`\n",
    "- You can look at the `pipeline.yaml` file in your workspace by going to `File --> Open...`. Or right here in the notebook (two cells below)"
   ]
  },
  {
   "cell_type": "code",
   "execution_count": null,
   "id": "9110c542-ab54-4573-af68-67961fb3f0be",
   "metadata": {
    "height": 29,
    "tags": []
   },
   "outputs": [],
   "source": [
    "compiler.Compiler().compile(hello_pipeline, 'pipeline.yaml')"
   ]
  },
  {
   "cell_type": "markdown",
   "id": "79b8c308-6c5b-427f-809d-5ff13c51cd99",
   "metadata": {
    "tags": []
   },
   "source": [
    "- Define the arguments, the input that goes into the pipeline."
   ]
  },
  {
   "cell_type": "code",
   "execution_count": null,
   "id": "edbbf9bb-9b1c-48fa-b3bd-377bfb77982f",
   "metadata": {
    "height": 63,
    "tags": []
   },
   "outputs": [],
   "source": [
    "pipeline_arguments = {\n",
    "    \"recipient\": \"World!\",\n",
    "}"
   ]
  },
  {
   "cell_type": "markdown",
   "id": "42081e3d-8e8b-4672-a9e3-3d93695acb2c",
   "metadata": {},
   "source": [
    "- View the `pipeline.yaml`"
   ]
  },
  {
   "cell_type": "code",
   "execution_count": null,
   "id": "4dcbbe99-c886-4e03-8a72-633b76d8b56d",
   "metadata": {
    "height": 29
   },
   "outputs": [],
   "source": [
    "!cat pipeline.yaml"
   ]
  },
  {
   "cell_type": "markdown",
   "id": "8a820ca8-a6c1-479b-afcd-5e45c2ce1b4e",
   "metadata": {},
   "source": [
    "- You can use [Vertex AI pipelines](https://cloud.google.com/vertex-ai/docs/pipelines/introduction), a *managed*, serverless environment, to execute the yaml files.\n",
    "\n",
    "**Note**: Due to classroom restrictions, the execution will not take place in this notebook. But, if you were to execute it in your own environment, the code is provided below (for the simple example from above):"
   ]
  },
  {
   "cell_type": "markdown",
   "id": "19471f4a-7691-47bc-b963-9e830fae8c10",
   "metadata": {},
   "source": [
    "```python\n",
    "### import `PipelineJob` \n",
    "from google.cloud.aiplatform import PipelineJob\n",
    "\n",
    "job = PipelineJob(\n",
    "        ### path of the yaml file to execute\n",
    "        template_path=\"pipeline.yaml\",\n",
    "        ### name of the pipeline\n",
    "        display_name=f\"deep_learning_ai_pipeline\",\n",
    "        ### pipeline arguments (inputs)\n",
    "        ### {\"recipient\": \"World!\"} for this example\n",
    "        parameter_values=pipeline_arguments,\n",
    "        ### region of execution\n",
    "        location=\"us-central1\",\n",
    "        ### root is where temporary files are being \n",
    "        ### stored by the execution engine\n",
    "        pipeline_root=\"./\",\n",
    ")\n",
    "\n",
    "### submit for execution\n",
    "job.submit()\n",
    "\n",
    "### check to see the status of the job\n",
    "job.state\n",
    "```"
   ]
  },
  {
   "cell_type": "markdown",
   "id": "e7362c9a-b50a-4342-918f-9359f53e9dcd",
   "metadata": {},
   "source": [
    "- This is how the \"hello world pipeline\" would look like:\n",
    "\n",
    "For **say_hello**\n",
    "\n",
    "<div style=\"text-align: center;\">\n",
    "    <img src=\"./images/hello-world-pipeline_1.png\" width=\"511\" height=\"211\"/>\n",
    "</div>\n",
    "\n",
    "For **how_are_you**\n",
    "\n",
    "<div style=\"text-align: center;\">\n",
    "    <img src=\"./images/hello-world-pipeline_2.png\" width=\"511\" height=\"211\"/>\n",
    "</div>"
   ]
  },
  {
   "cell_type": "markdown",
   "id": "e8e4334e-8c76-49e0-9b6b-309fe3cbc204",
   "metadata": {},
   "source": [
    "### Real-life Pipeline Example \n",
    "\n",
    "#### Automation and Orchestration of a Supervised Tuning Pipeline.\n",
    "\n",
    "- Reuse an existing Kubeflow Pipeline for Parameter-Efficient Fine-Tuning (PEFT) for a foundation model from Google, called [PaLM 2](https://ai.google/discover/palm2/). \n",
    "- Advantage of reusing a pipleline means you do not have to build it from scratch, you can only specify some of the parameters."
   ]
  },
  {
   "cell_type": "code",
   "execution_count": null,
   "id": "88178549-83df-4fa8-9554-a42e96558d19",
   "metadata": {
    "height": 148,
    "tags": []
   },
   "outputs": [],
   "source": [
    "### these are the same \n",
    "### jsonl files from the previous lab\n",
    "\n",
    "### time stamps have been removed so that \n",
    "### the files are consistent for all learners\n",
    "TRAINING_DATA_URI = \"./tune_data_stack_overflow_python_qa.jsonl\" \n",
    "EVAUATION_DATA_URI = \"./tune_eval_data_stack_overflow_python_qa.jsonl\"  "
   ]
  },
  {
   "cell_type": "markdown",
   "id": "c57609a2-7fe1-4652-933b-6ea9c16fb3d9",
   "metadata": {},
   "source": [
    "- Provide the model with a version.\n",
    "- Versioning model allows for:\n",
    "  - Reproducibility: Reproduce your results and ensure your models perform as expected.\n",
    "  - Auditing: Track changes to your models.\n",
    "  - Rollbacks: Roll back to a previous version of your model."
   ]
  },
  {
   "cell_type": "code",
   "execution_count": null,
   "id": "aafd1f73-9818-4e91-99e2-12bd5b02ca03",
   "metadata": {
    "height": 80,
    "tags": []
   },
   "outputs": [],
   "source": [
    "### path to the pipeline file to reuse\n",
    "### the file is provided in your workspace as well\n",
    "template_path = 'https://us-kfp.pkg.dev/ml-pipeline/\\\n",
    "large-language-model-pipelines/tune-large-model/v2.0.0'"
   ]
  },
  {
   "cell_type": "code",
   "execution_count": null,
   "id": "0de0a586-56df-4628-a6c7-b5b823b7168e",
   "metadata": {
    "height": 29,
    "tags": []
   },
   "outputs": [],
   "source": [
    "import datetime"
   ]
  },
  {
   "cell_type": "code",
   "execution_count": null,
   "id": "a95fea7c-e1d4-4d55-bbce-77895e3a5320",
   "metadata": {
    "height": 29,
    "tags": []
   },
   "outputs": [],
   "source": [
    "date = datetime.datetime.now().strftime(\"%H:%d:%m:%Y\")"
   ]
  },
  {
   "cell_type": "code",
   "execution_count": null,
   "id": "f34abb24-208c-46ad-b5dc-85a731436cb4",
   "metadata": {
    "height": 29,
    "tags": []
   },
   "outputs": [],
   "source": [
    "MODEL_NAME = f\"deep-learning-ai-model-{date}\""
   ]
  },
  {
   "cell_type": "markdown",
   "id": "c86ab578-ac94-419d-813f-162251258e95",
   "metadata": {
    "tags": []
   },
   "source": [
    "- This example uses two PaLM model parameters:\n",
    "  - `TRAINING_STEPS`: Number of training steps to use when tuning the model. For extractive QA you can set it from 100-500. \n",
    "  - `EVALUATION_INTERVAL`: The interval determines how frequently a trained model is evaluated against the created *evaluation set* to assess its performance and identify issues. Default will be 20, which means after every 20 training steps, the model is evaluated on the evaluation dataset."
   ]
  },
  {
   "cell_type": "code",
   "execution_count": null,
   "id": "e44a637b-6f50-478d-8a58-8e0fc3b8b8c5",
   "metadata": {
    "height": 46,
    "tags": []
   },
   "outputs": [],
   "source": [
    "TRAINING_STEPS = 200\n",
    "EVALUATION_INTERVAL = 20"
   ]
  },
  {
   "cell_type": "markdown",
   "id": "09fc52c0-cab4-4dc1-ab53-fb81970ba408",
   "metadata": {
    "tags": []
   },
   "source": [
    "- Load the Project ID and credentials"
   ]
  },
  {
   "cell_type": "code",
   "execution_count": null,
   "id": "93bf62a0-b7b9-4fe0-b56c-2518d7a6e672",
   "metadata": {
    "height": 46,
    "tags": []
   },
   "outputs": [],
   "source": [
    "from utils import authenticate\n",
    "credentials, PROJECT_ID = authenticate() "
   ]
  },
  {
   "cell_type": "code",
   "execution_count": null,
   "id": "ce8044cd-cdd3-4a36-972a-e3f6596368e7",
   "metadata": {
    "height": 29,
    "tags": []
   },
   "outputs": [],
   "source": [
    "REGION = \"us-central1\""
   ]
  },
  {
   "cell_type": "markdown",
   "id": "59fc079e-5244-4421-9648-a9640b823388",
   "metadata": {
    "tags": []
   },
   "source": [
    "- Define the arguments, the input that goes into the pipeline."
   ]
  },
  {
   "cell_type": "code",
   "execution_count": null,
   "id": "a8deddf9-abad-403d-9780-0a4b4ecbca41",
   "metadata": {
    "height": 182,
    "tags": []
   },
   "outputs": [],
   "source": [
    "pipeline_arguments = {\n",
    "    \"model_display_name\": MODEL_NAME,\n",
    "    \"location\": REGION,\n",
    "    \"large_model_reference\": \"text-bison@001\",\n",
    "    \"project\": PROJECT_ID,\n",
    "    \"train_steps\": TRAINING_STEPS,\n",
    "    \"dataset_uri\": TRAINING_DATA_URI,\n",
    "    \"evaluation_interval\": EVALUATION_INTERVAL,\n",
    "    \"evaluation_data_uri\": EVAUATION_DATA_URI,\n",
    "}"
   ]
  },
  {
   "cell_type": "markdown",
   "id": "aea7b35b-172b-430a-a2cb-9fcccd0c6bbf",
   "metadata": {},
   "source": [
    "**Note**: Due to classroom restrictions, the execution will not take place in this notebook. But, if you were to execute it in your own environment, the code is provided below (for the real-life example from above). Keep in mind, **running this execution is time consuming and expensive**:"
   ]
  },
  {
   "cell_type": "markdown",
   "id": "cddf05e9-40d2-474d-9d43-c9e644bf6053",
   "metadata": {},
   "source": [
    "```Python\n",
    "pipeline_root \"./\"\n",
    "\n",
    "job = PipelineJob(\n",
    "        ### path of the yaml file to execute\n",
    "        template_path=template_path,\n",
    "        ### name of the pipeline\n",
    "        display_name=f\"deep_learning_ai_pipeline-{date}\",\n",
    "        ### pipeline arguments (inputs)\n",
    "        parameter_values=pipeline_arguments,\n",
    "        ### region of execution\n",
    "        location=REGION,\n",
    "        ### root is where temporary files are being \n",
    "        ### stored by the execution engine\n",
    "        pipeline_root=pipeline_root,\n",
    "        ### enable_caching=True will save the outputs \n",
    "        ### of components for re-use, and will only re-run those\n",
    "        ### components for which the code or data has changed.\n",
    "        enable_caching=True,\n",
    ")\n",
    "\n",
    "### submit for execution\n",
    "job.submit()\n",
    "\n",
    "### check to see the status of the job\n",
    "job.state\n",
    "```"
   ]
  },
  {
   "cell_type": "markdown",
   "id": "e913ffed-ec6c-477c-b908-78b65569401e",
   "metadata": {},
   "source": [
    "- This is how the successful execution of the job would display like:\n",
    "\n",
    "<div style=\"text-align: center;\">\n",
    "    <img src=\"./images/job_success_message.png\" width=\"511\" height=\"211\"/>\n",
    "</div>\n",
    "\n",
    "- This is how the pipeline graph would look like:\n",
    "\n",
    "<div style=\"text-align: center;\">\n",
    "    <img src=\"./images/peft_pipeline_1.png\" width=\"511\" height=\"211\"/>\n",
    "</div>"
   ]
  },
  {
   "cell_type": "code",
   "execution_count": null,
   "id": "7facc65c-f84b-40e8-876e-b2faa2a61135",
   "metadata": {
    "height": 29
   },
   "outputs": [],
   "source": []
  },
  {
   "cell_type": "code",
   "execution_count": null,
   "id": "46b61034-7243-4e03-8a46-9ef89a70bdcb",
   "metadata": {
    "height": 29
   },
   "outputs": [],
   "source": []
  }
 ],
 "metadata": {
  "environment": {
   "kernel": "python3",
   "name": "tf2-cpu.2-11.m113",
   "type": "gcloud",
   "uri": "gcr.io/deeplearning-platform-release/tf2-cpu.2-11:m113"
  },
  "kernelspec": {
   "display_name": "Python 3 (ipykernel)",
   "language": "python",
   "name": "python3"
  },
  "language_info": {
   "codemirror_mode": {
    "name": "ipython",
    "version": 3
   },
   "file_extension": ".py",
   "mimetype": "text/x-python",
   "name": "python",
   "nbconvert_exporter": "python",
   "pygments_lexer": "ipython3",
   "version": "3.10.13"
  }
 },
 "nbformat": 4,
 "nbformat_minor": 5
}
