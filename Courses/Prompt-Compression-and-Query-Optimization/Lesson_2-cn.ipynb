{
 "cells": [
  {
   "cell_type": "markdown",
   "id": "13781ca2-6df6-476b-bbf0-db65fd57857f",
   "metadata": {},
   "source": [
    "# L2: Filtering With Metadata"
   ]
  },
  {
   "cell_type": "markdown",
   "id": "630f5433-d0aa-48c9-bd58-5916c14099b0",
   "metadata": {},
   "source": [
    "<p style=\"background-color:#fff6e4; padding:15px; border-width:3px; border-color:#f5ecda; border-style:solid; border-radius:6px\"> ⏳ <b>Note <code>(Kernel Starting)</code>:</b> This notebook takes about 30 seconds to be ready to use. You may start and watch the video while you wait.</p>\n"
   ]
  },
  {
   "cell_type": "code",
   "execution_count": null,
   "id": "eb2395da-11f5-4577-9dc6-e6660129ff41",
   "metadata": {
    "height": 64
   },
   "outputs": [],
   "source": [
    "# 警告控制\n",
    "import warnings\n",
    "\n",
    "# 忽略所有警告信息，以免干扰程序输出\n",
    "warnings.filterwarnings('ignore')\n"
   ]
  },
  {
   "cell_type": "code",
   "execution_count": null,
   "id": "9cd7993c-fdee-407d-b485-e0c4779e5038",
   "metadata": {
    "height": 30
   },
   "outputs": [],
   "source": "import custom_utils  # 导入自定义工具库 custom_utils"
  },
  {
   "cell_type": "markdown",
   "id": "03466e3c-95d9-4d1a-8633-9be7084cfce9",
   "metadata": {},
   "source": [
    "<p style=\"background-color:#fff6ff; padding:15px; border-width:3px; border-color:#efe6ef; border-style:solid; border-radius:6px\"> 💻 &nbsp; <b>Access <code>requirements.txt</code> and <code>utils</code> files:</b> To access <code>requirements.txt</code> for this notebook, 1) click on the <em>\"File\"</em> option on the top menu of the notebook and then 2) click on <em>\"Open\"</em>. For more help, please see the <em>\"Appendix - Tips and Help\"</em> Lesson.</p>"
   ]
  },
  {
   "cell_type": "markdown",
   "id": "1e70b37d-e581-40f2-a97e-c75487a51082",
   "metadata": {},
   "source": [
    "## Data Loading"
   ]
  },
  {
   "cell_type": "code",
   "execution_count": null,
   "id": "90830490-dfcb-4b37-bf85-911908a38927",
   "metadata": {
    "height": 183
   },
   "outputs": [],
   "source": [
    "# 1. 加载数据集\n",
    "from datasets import load_dataset\n",
    "import pandas as pd\n",
    "\n",
    "# 加载数据集\n",
    "dataset = load_dataset(\"MongoDB/airbnb_embeddings\", streaming=True, split=\"train\")\n",
    "dataset = dataset.take(100)  # 取前100条数据\n",
    "\n",
    "# 将数据集转换为 pandas 数据框\n",
    "dataset_df = pd.DataFrame(dataset)\n",
    "\n",
    "# 显示前5条数据\n",
    "dataset_df.head(5)"
   ]
  },
  {
   "cell_type": "code",
   "execution_count": null,
   "id": "bf0ddaa2-3632-4fe6-8e0c-8713d655f4d9",
   "metadata": {
    "height": 30
   },
   "outputs": [],
   "source": [
    "# 打印数据框的列名\n",
    "print(\"Columns:\", dataset_df.columns)"
   ]
  },
  {
   "cell_type": "markdown",
   "id": "264a8bb2-8c6e-4c14-a403-92f0bb2998b2",
   "metadata": {},
   "source": [
    "## Document Modelling"
   ]
  },
  {
   "cell_type": "code",
   "execution_count": null,
   "id": "bdafcd78-aa97-4376-a0d2-ca27ed34e08b",
   "metadata": {
    "height": 47
   },
   "outputs": [],
   "source": [
    "# 使用自定义工具库处理记录，并将结果存储在 listings 变量中\n",
    "listings = custom_utils.process_records(dataset_df)"
   ]
  },
  {
   "cell_type": "markdown",
   "id": "dd3e25fa-37ec-46cd-8444-eded661c2613",
   "metadata": {},
   "source": [
    "## Database Creation and Connection"
   ]
  },
  {
   "cell_type": "code",
   "execution_count": null,
   "id": "ff2f3858-21c2-4946-80d7-fd7f86a53298",
   "metadata": {
    "height": 47
   },
   "outputs": [],
   "source": [
    "# 使用自定义工具库连接到数据库，并获取数据库和集合对象\n",
    "db, collection = custom_utils.connect_to_database()"
   ]
  },
  {
   "cell_type": "code",
   "execution_count": null,
   "id": "a9db8cbd-cb43-4988-aca1-dbb6219bf425",
   "metadata": {
    "height": 47
   },
   "outputs": [],
   "source": [
    "# 删除集合中所有现有的记录\n",
    "collection.delete_many({})"
   ]
  },
  {
   "cell_type": "markdown",
   "id": "322d3a43-7643-47c2-9fbe-5fc12150d4c1",
   "metadata": {},
   "source": [
    "## Data Ingestion"
   ]
  },
  {
   "cell_type": "code",
   "execution_count": null,
   "id": "a31b0fa9-d671-4404-8e31-4088f50b5771",
   "metadata": {
    "height": 64
   },
   "outputs": [],
   "source": [
    "# 数据插入过程可能需要几分钟时间\n",
    "collection.insert_many(listings)\n",
    "print(\"Data ingestion into MongoDB completed\")"
   ]
  },
  {
   "cell_type": "markdown",
   "id": "8519448f-3edc-46f6-9fb1-98dd7810efa9",
   "metadata": {},
   "source": [
    "## Vector Search Index defintion"
   ]
  },
  {
   "cell_type": "code",
   "execution_count": null,
   "id": "5aa8a47d-e962-4d72-b444-3e6718a9b666",
   "metadata": {
    "height": 47
   },
   "outputs": [],
   "source": [
    "# 使用自定义工具库设置向量搜索索引\n",
    "custom_utils.setup_vector_search_index(collection=collection)"
   ]
  },
  {
   "cell_type": "markdown",
   "id": "49b7c725-831e-41a1-a534-2293cf0769b9",
   "metadata": {},
   "source": [
    "<p style=\"background-color:#fff6e4; padding:15px; border-width:3px; border-color:#f5ecda; border-style:solid; border-radius:6px\"> ⏳ <b>Note:</b> If the output of the previous cell is <code>Error creating vector search index: Duplicate Index</code> you may proceed to the next cell if you intend to still use a previously created index.</p>"
   ]
  },
  {
   "cell_type": "markdown",
   "id": "0fe10702-8b54-491d-abaa-6ca6ba1a78f3",
   "metadata": {},
   "source": [
    "## Compose Vector Search Query"
   ]
  },
  {
   "cell_type": "code",
   "execution_count": null,
   "id": "3612890d-8fd9-4c1c-a16a-9547eaefb10e",
   "metadata": {
    "height": 897
   },
   "outputs": [],
   "source": [
    "def vector_search(user_query, db, collection, additional_stages=[], vector_index=\"vector_index_text\"):\n",
    "    \"\"\"\n",
    "    在 MongoDB 集合中基于用户查询执行向量搜索。\n",
    "\n",
    "    Args:\n",
    "    user_query (str): 用户的查询字符串。\n",
    "    db (MongoClient.database): 数据库对象。\n",
    "    collection (MongoCollection): 要搜索的 MongoDB 集合。\n",
    "    additional_stages (list): 额外的聚合阶段要包括在管道中。\n",
    "    vector_index (str): 向量索引名称，默认为 \"vector_index_text\"。\n",
    "\n",
    "    Returns:\n",
    "    list: 匹配的文档列表。\n",
    "    \"\"\"\n",
    "\n",
    "    # 为用户查询生成嵌入向量\n",
    "    query_embedding = custom_utils.get_embedding(user_query)\n",
    "\n",
    "    if query_embedding is None:\n",
    "        return \"Invalid query or embedding generation failed.\"\n",
    "\n",
    "    # 定义向量搜索阶段\n",
    "    vector_search_stage = {\n",
    "        \"$vectorSearch\": {\n",
    "            \"index\": vector_index,  # 指定用于搜索的索引\n",
    "            \"queryVector\": query_embedding,  # 表示查询的向量\n",
    "            \"path\": \"text_embeddings\",  # 文档中包含要搜索向量的字段\n",
    "            \"numCandidates\": 150,  # 考虑的候选匹配数\n",
    "            \"limit\": 20,  # 返回前20个匹配结果\n",
    "        }\n",
    "    }\n",
    "\n",
    "    # 定义包含向量搜索阶段和其他阶段的聚合管道\n",
    "    pipeline = [vector_search_stage] + additional_stages\n",
    "\n",
    "    # 执行搜索\n",
    "    results = collection.aggregate(pipeline)\n",
    "\n",
    "    # 解释查询执行计划\n",
    "    explain_query_execution = db.command(\n",
    "        'explain', {  # 返回有关 MongoDB 如何执行查询或命令的信息，而无需实际运行它\n",
    "            'aggregate': collection.name,  # 指定执行聚合的集合名称\n",
    "            'pipeline': pipeline,  # 要分析的聚合管道\n",
    "            'cursor': {}  # 指示应使用默认游标行为\n",
    "        }, \n",
    "        verbosity='executionStats'  # 有关聚合管道每个阶段执行的详细统计信息\n",
    "    )\n",
    "\n",
    "    # 获取向量搜索的解释信息\n",
    "    vector_search_explain = explain_query_execution['stages'][0]['$vectorSearch']\n",
    "    millis_elapsed = vector_search_explain['explain']['collectStats']['millisElapsed']\n",
    "\n",
    "    # 打印数据库服务器上执行完成所需的总时间\n",
    "    print(f\"Total time for the execution to complete on the database server: {millis_elapsed} milliseconds\")\n",
    "\n",
    "    return list(results)  # 返回搜索结果列表"
   ]
  },
  {
   "cell_type": "markdown",
   "id": "3423fc28-ee46-4c66-8e35-c757b9d3e4d6",
   "metadata": {},
   "source": [
    "## Handling User Query"
   ]
  },
  {
   "cell_type": "code",
   "execution_count": null,
   "id": "523d5be8-f399-4f73-b7f1-0f3b1f694f24",
   "metadata": {
    "height": 166
   },
   "outputs": [],
   "source": [
    "from pydantic import BaseModel\n",
    "from typing import Optional\n",
    "import custom_utils\n",
    "\n",
    "class SearchResultItem(BaseModel):\n",
    "    name: str  # 房源名称\n",
    "    accommodates: Optional[int] = None  # 可容纳人数，可选\n",
    "    bedrooms: Optional[int] = None  # 卧室数量，可选\n",
    "    address: custom_utils.Address  # 地址信息\n",
    "    space: str = None  # 空间描述，可选"
   ]
  },
  {
   "cell_type": "code",
   "execution_count": null,
   "id": "33e7149f-8792-4e92-96c1-e5c06a1a59f9",
   "metadata": {
    "height": 778
   },
   "outputs": [],
   "source": [
    "from IPython.display import display, HTML\n",
    "\n",
    "def handle_user_query(query, db, collection, stages=[], vector_index=\"vector_index_text\"):\n",
    "    \"\"\"\n",
    "    处理用户查询并返回系统响应和源信息。\n",
    "\n",
    "    Args:\n",
    "    query (str): 用户的查询字符串。\n",
    "    db (MongoClient.database): 数据库对象。\n",
    "    collection (MongoCollection): 要搜索的 MongoDB 集合。\n",
    "    stages (list): 额外的聚合阶段要包括在管道中。\n",
    "    vector_index (str): 向量索引名称，默认为 \"vector_index_text\"。\n",
    "\n",
    "    Returns:\n",
    "    str: 系统响应。\n",
    "    \"\"\"\n",
    "    # 执行向量搜索\n",
    "    get_knowledge = vector_search(query, db, collection, stages, vector_index)\n",
    "\n",
    "    # 检查是否有结果\n",
    "    if not get_knowledge:\n",
    "        return \"No results found.\", \"No source information available.\"\n",
    "\n",
    "    # 将搜索结果转换为 SearchResultItem 模型列表\n",
    "    search_results_models = [\n",
    "        SearchResultItem(**result)\n",
    "        for result in get_knowledge\n",
    "    ]\n",
    "\n",
    "    # 将搜索结果转换为 DataFrame 以便在 Jupyter 中更好地呈现\n",
    "    search_results_df = pd.DataFrame([item.dict() for item in search_results_models])\n",
    "\n",
    "    # 使用 OpenAI 的 completion 生成系统响应\n",
    "    completion = custom_utils.openai.ChatCompletion.create(\n",
    "        model=\"gpt-3.5-turbo\",\n",
    "        messages=[\n",
    "            {\n",
    "                \"role\": \"system\", \n",
    "                \"content\": \"You are an Airbnb listing recommendation system.\"\n",
    "            },\n",
    "            {\n",
    "                \"role\": \"user\", \n",
    "                \"content\": f\"Answer this user query: {query} with the following context:\\n{search_results_df}\"\n",
    "            }\n",
    "        ]\n",
    "    )\n",
    "\n",
    "    system_response = completion.choices[0].message['content']\n",
    "\n",
    "    # 打印用户问题、系统响应和源信息\n",
    "    print(f\"- User Question:\\n{query}\\n\")\n",
    "    print(f\"- System Response:\\n{system_response}\\n\")\n",
    "\n",
    "    # 以 HTML 表格形式显示 DataFrame\n",
    "    display(HTML(search_results_df.to_html()))\n",
    "\n",
    "    # 返回结构化响应和源信息作为字符串\n",
    "    return system_response"
   ]
  },
  {
   "cell_type": "markdown",
   "id": "1ad511fb-dbfc-42af-9d4f-9ec5051ec0b4",
   "metadata": {},
   "source": [
    "## Adding A Post Filter to Vector Search (Match Operator)"
   ]
  },
  {
   "cell_type": "code",
   "execution_count": null,
   "id": "bf8afe7b-6f03-41c9-a76b-10eb22289b07",
   "metadata": {
    "height": 251
   },
   "outputs": [],
   "source": [
    "import re\n",
    "\n",
    "# 指定要限制文档的元数据字段\n",
    "search_path = \"address.country\"\n",
    "\n",
    "# 创建匹配阶段\n",
    "match_stage = {\n",
    "    \"$match\": {\n",
    "        search_path: re.compile(r\"United States\"),  # 匹配国家为美国的文档\n",
    "        \"accommodates\": { \"$gt\": 1, \"$lt\": 5 }  # 匹配可容纳人数在1到5之间的文档\n",
    "    }\n",
    "}\n",
    "\n",
    "# 额外的聚合阶段\n",
    "additional_stages = [match_stage]"
   ]
  },
  {
   "cell_type": "code",
   "execution_count": null,
   "id": "0587bca1-64cd-46be-af22-4d7fafe7fb94",
   "metadata": {
    "height": 132
   },
   "outputs": [],
   "source": [
    "query = \"\"\"\n",
    "I want to stay in a place that's warm and friendly, \n",
    "and not too far from restaurants, can you recommend a place? \n",
    "Include a reason as to why you've chosen your selection.\n",
    "\"\"\"\n",
    "\n",
    "# 处理用户查询并获取响应\n",
    "response = handle_user_query(query, db, collection, additional_stages)\n",
    "response"
   ]
  },
  {
   "cell_type": "markdown",
   "id": "105c41f5-e14e-4254-a10c-df65207128fd",
   "metadata": {},
   "source": [
    "## Adding A PreFilter to Vector Search"
   ]
  },
  {
   "cell_type": "code",
   "execution_count": null,
   "id": "6982df29-cc4f-4c17-88e9-97dde04a66e7",
   "metadata": {
    "height": 625
   },
   "outputs": [],
   "source": [
    "from pymongo.operations import SearchIndexModel\n",
    "import time\n",
    "\n",
    "# 新向量索引名称\n",
    "vector_index_with_filter = \"vector_index_with_filter\"\n",
    "\n",
    "# 定义新的向量搜索索引模型\n",
    "new_vector_search_index_model = SearchIndexModel(\n",
    "    definition={\n",
    "        \"mappings\": {\n",
    "            \"dynamic\": True,\n",
    "            \"fields\": {\n",
    "                \"text_embeddings\": {\n",
    "                    \"dimensions\": 1536,\n",
    "                    \"similarity\": \"cosine\",\n",
    "                    \"type\": \"knnVector\",\n",
    "                },\n",
    "                \"accommodates\": {\n",
    "                    \"type\": \"number\"\n",
    "                },\n",
    "                \"bedrooms\": {\n",
    "                    \"type\": \"number\"\n",
    "                },\n",
    "            },\n",
    "        }\n",
    "    },\n",
    "    name=vector_index_with_filter,\n",
    ")\n",
    "\n",
    "# 创建新索引\n",
    "try:\n",
    "    result = collection.create_search_index(model=new_vector_search_index_model)\n",
    "    print(\"Creating index...\")\n",
    "    time.sleep(20)  # 休眠20秒，确保向量索引在使用前完成初始同步\n",
    "    print(\"New index created successfully:\", result)\n",
    "except Exception as e:\n",
    "    print(f\"Error creating new vector search index: {str(e)}\")"
   ]
  },
  {
   "cell_type": "markdown",
   "id": "1db78472-91f8-4195-bbee-a04f79ff56cd",
   "metadata": {},
   "source": [
    "<p style=\"background-color:#fff6e4; padding:15px; border-width:3px; border-color:#f5ecda; border-style:solid; border-radius:6px\"> ⏳ <b>Note:</b> If the output of the previous cell is <code>Error creating vector search index: Duplicate Index</code> you may proceed to the next cell if you intend to still use a previously created index.</p>"
   ]
  },
  {
   "cell_type": "code",
   "execution_count": null,
   "id": "18571849-7fc2-4dfd-889d-5fc7eee0169e",
   "metadata": {
    "height": 625
   },
   "outputs": [],
   "source": [
    "def vector_search(user_query, db, collection, additional_stages=[], vector_index=\"vector_index_text\"):\n",
    "    \"\"\"\n",
    "    在 MongoDB 集合中基于用户查询执行向量搜索。\n",
    "\n",
    "    Args:\n",
    "    user_query (str): 用户的查询字符串。\n",
    "    db (MongoClient.database): 数据库对象。\n",
    "    collection (MongoCollection): 要搜索的 MongoDB 集合。\n",
    "    additional_stages (list): 额外的聚合阶段要包括在管道中。\n",
    "    vector_index (str): 向量索引名称，默认为 \"vector_index_text\"。\n",
    "\n",
    "    Returns:\n",
    "    list: 匹配的文档列表。\n",
    "    \"\"\"\n",
    "\n",
    "    # 为用户查询生成嵌入向量\n",
    "    query_embedding = custom_utils.get_embedding(user_query)\n",
    "    if query_embedding is None:\n",
    "        return \"Invalid query or embedding generation failed.\"\n",
    "\n",
    "    # 定义向量搜索阶段\n",
    "    vector_search_stage = {\n",
    "        \"$vectorSearch\": {\n",
    "            \"index\": vector_index,  # 指定用于搜索的索引\n",
    "            \"queryVector\": query_embedding,  # 表示查询的向量\n",
    "            \"path\": \"text_embeddings\",  # 文档中包含要搜索向量的字段\n",
    "            \"numCandidates\": 150,  # 考虑的候选匹配数\n",
    "            \"limit\": 20,  # 返回前20个匹配结果\n",
    "            \"filter\": {\n",
    "                \"$and\": [\n",
    "                    {\"accommodates\": {\"$gte\": 2}}, \n",
    "                    {\"bedrooms\": {\"$lte\": 7}}\n",
    "                ]\n",
    "            },\n",
    "        }\n",
    "    }\n",
    "    # 定义包含向量搜索阶段和其他阶段的聚合管道\n",
    "    pipeline = [vector_search_stage] + additional_stages\n",
    "\n",
    "    # 执行搜索\n",
    "    results = collection.aggregate(pipeline)\n",
    "\n",
    "    # 解释查询执行计划\n",
    "    explain_query_execution = db.command(\n",
    "        'explain', {  # 返回有关 MongoDB 如何执行查询或命令的信息，而无需实际运行它\n",
    "            'aggregate': collection.name,  # 指定执行聚合的集合名称\n",
    "            'pipeline': pipeline,  # 要分析的聚合管道\n",
    "            'cursor': {}  # 指示应使用默认游标行为\n",
    "        }, \n",
    "        verbosity='executionStats'  # 有关聚合管道每个阶段执行的详细统计信息\n",
    "    )\n",
    "\n",
    "    # 获取向量搜索的解释信息\n",
    "    vector_search_explain = explain_query_execution['stages'][0]['$vectorSearch']\n",
    "    millis_elapsed = vector_search_explain['explain']['collectStats']['millisElapsed']\n",
    "\n",
    "    # 打印数据库服务器上执行完成所需的总时间\n",
    "    print(f\"Total time for the execution to complete on the database server: {millis_elapsed} milliseconds\")\n",
    "    \n",
    "    return list(results)  # 返回搜索结果列表"
   ]
  },
  {
   "cell_type": "code",
   "execution_count": null,
   "id": "a30a104e-344c-4fe9-9804-b418247206a6",
   "metadata": {
    "height": 217
   },
   "outputs": [],
   "source": [
    "query = \"\"\"\n",
    "I want to stay in a place that's warm and friendly, \n",
    "and not too far from restaurants, can you recommend a place? \n",
    "Include a reason as to why you've chosen your selection.\n",
    "\"\"\"\n",
    "\n",
    "# 处理用户查询并获取响应\n",
    "response = handle_user_query(\n",
    "    query, \n",
    "    db, \n",
    "    collection, \n",
    "    vector_index=vector_index_with_filter\n",
    ")\n",
    "response"
   ]
  },
  {
   "cell_type": "code",
   "execution_count": null,
   "id": "464d0fa5-f059-4139-b0a3-29c8442ade7d",
   "metadata": {
    "height": 30
   },
   "outputs": [],
   "source": []
  },
  {
   "cell_type": "code",
   "execution_count": null,
   "id": "d0e4e796-33de-4358-bfe3-3383e5711f58",
   "metadata": {
    "height": 30
   },
   "outputs": [],
   "source": []
  },
  {
   "cell_type": "code",
   "execution_count": null,
   "id": "fe6e7f34-8ef4-41d8-9d3e-eb17ae7028ec",
   "metadata": {
    "height": 30
   },
   "outputs": [],
   "source": []
  },
  {
   "cell_type": "code",
   "execution_count": null,
   "id": "f1905a0f-5237-4cc7-a364-a60f6edbc9a2",
   "metadata": {
    "height": 30
   },
   "outputs": [],
   "source": []
  },
  {
   "cell_type": "code",
   "execution_count": null,
   "id": "1e74897b-ae93-41cd-86f6-e2659bda159c",
   "metadata": {
    "height": 30
   },
   "outputs": [],
   "source": []
  },
  {
   "cell_type": "code",
   "execution_count": null,
   "id": "e2eaa31c-5c5e-4624-a2cd-0a40938ca9fb",
   "metadata": {
    "height": 30
   },
   "outputs": [],
   "source": []
  }
 ],
 "metadata": {
  "kernelspec": {
   "display_name": "Python 3 (ipykernel)",
   "language": "python",
   "name": "python3"
  },
  "language_info": {
   "codemirror_mode": {
    "name": "ipython",
    "version": 3
   },
   "file_extension": ".py",
   "mimetype": "text/x-python",
   "name": "python",
   "nbconvert_exporter": "python",
   "pygments_lexer": "ipython3",
   "version": "3.11.7"
  }
 },
 "nbformat": 4,
 "nbformat_minor": 5
}
