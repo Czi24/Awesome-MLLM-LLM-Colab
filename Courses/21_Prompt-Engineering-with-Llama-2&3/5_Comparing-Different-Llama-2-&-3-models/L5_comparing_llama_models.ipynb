{
 "cells": [
  {
   "cell_type": "markdown",
   "id": "fde90571-0799-48af-b315-247f85c2269b",
   "metadata": {},
   "source": [
    "# Comparing Llama Models"
   ]
  },
  {
   "cell_type": "markdown",
   "id": "6ce53734-47df-454d-bb29-c135b2a1b338",
   "metadata": {},
   "source": [
    "**Update: Llama 3 was released on April 18 and this notebook has been updated to compare Llama 3 and Llama 2 models hosted on Together.ai.**\n",
    "\n",
    "- Load helper function to prompt Llama models"
   ]
  },
  {
   "cell_type": "code",
   "execution_count": null,
   "id": "469f76b7-acd9-4192-93f2-a37d4ac9d196",
   "metadata": {
    "height": 29
   },
   "outputs": [],
   "source": [
    "from utils import llama, llama_chat"
   ]
  },
  {
   "cell_type": "markdown",
   "id": "c6cd039f-d768-44a7-b81b-bfab14a33a90",
   "metadata": {},
   "source": [
    "### Task 1: Sentiment Classification\n",
    "- Compare the models on few-shot prompt sentiment classification.\n",
    "- You are asking the model to return a one word response."
   ]
  },
  {
   "cell_type": "code",
   "execution_count": null,
   "id": "44d44286-dd86-48bb-9457-72dca64b5b37",
   "metadata": {
    "height": 182
   },
   "outputs": [],
   "source": [
    "prompt = '''\n",
    "Message: Hi Amit, thanks for the thoughtful birthday card!\n",
    "Sentiment: Positive\n",
    "Message: Hi Dad, you're 20 minutes late to my piano recital!\n",
    "Sentiment: Negative\n",
    "Message: Can't wait to order pizza for dinner tonight!\n",
    "Sentiment: ?\n",
    "\n",
    "Give a one word response.\n",
    "'''"
   ]
  },
  {
   "cell_type": "markdown",
   "id": "38108527-032d-411b-bb3e-31471694758f",
   "metadata": {},
   "source": [
    "- First, use the 7B parameter chat model (`llama-2-7b-chat`) to get the response.\n",
    "\n",
    "**Note the model names accepted by Together.ai are case insensitive and can be either \"META-LLAMA/LLAMA-2-7B-CHAT-HF\" or \"togethercomputer/llama-2-7b-chat\". The names starting with \"META-LLAMA\" are preferred now.**"
   ]
  },
  {
   "cell_type": "code",
   "execution_count": null,
   "id": "d58a65f2-a8e2-4cf4-abc4-c65fd64710c9",
   "metadata": {
    "height": 80
   },
   "outputs": [],
   "source": [
    "response = llama(prompt,\n",
    "                 #model=\"togethercomputer/LLama-2-7b-chat\")\n",
    "                 model = \"META-LLAMA/Llama-2-7B-CHAT-HF\")\n",
    "print(response)"
   ]
  },
  {
   "cell_type": "markdown",
   "id": "24729f9d-0899-472b-9025-12824b962a52",
   "metadata": {},
   "source": [
    "- Now, use the 70B parameter chat model (`llama-2-70b-chat`) on the same task"
   ]
  },
  {
   "cell_type": "code",
   "execution_count": null,
   "id": "3f62ef43-0b6a-4c11-bed9-8f49ec4f0802",
   "metadata": {
    "height": 80
   },
   "outputs": [],
   "source": [
    "response = llama(prompt,\n",
    "                 #model=\"togethercomputer/llama-2-70b-chat\")\n",
    "                 model=\"META-LLAMA/Llama-2-70B-CHAT-HF\")\n",
    "print(response)"
   ]
  },
  {
   "cell_type": "markdown",
   "id": "b3b4a50d-d872-4707-996b-885a2e310915",
   "metadata": {},
   "source": [
    "**Using Llama 3 chat models**"
   ]
  },
  {
   "cell_type": "code",
   "execution_count": null,
   "id": "3cc8e6e8-986e-47e6-8691-1f0aabcea1ea",
   "metadata": {
    "height": 63
   },
   "outputs": [],
   "source": [
    "response = llama(prompt,\n",
    "                 model = \"META-LLAMA/Llama-3-8B-CHAT-HF\")\n",
    "print(response)"
   ]
  },
  {
   "cell_type": "code",
   "execution_count": null,
   "id": "5e2842f4-5c9c-4796-a012-1e4a5a7c205c",
   "metadata": {
    "height": 63
   },
   "outputs": [],
   "source": [
    "response = llama(prompt,\n",
    "                 model = \"META-LLAMA/Llama-3-70B-CHAT-HF\")\n",
    "print(response)"
   ]
  },
  {
   "cell_type": "markdown",
   "id": "3c0c5ded-3bbe-4cac-898c-578655ea47cc",
   "metadata": {},
   "source": [
    "### Task 2: Summarization\n",
    "- Compare the models on summarization task.\n",
    "- This is the same \"email\" as the one you used previously in the course."
   ]
  },
  {
   "cell_type": "code",
   "execution_count": null,
   "id": "07d248f0-a610-4696-aacd-12ca94b2fb8c",
   "metadata": {
    "height": 573
   },
   "outputs": [],
   "source": [
    "email = \"\"\"\n",
    "Dear Amit,\n",
    "\n",
    "An increasing variety of large language models (LLMs) are open source, or close to it. The proliferation of models with relatively permissive licenses gives developers more options for building applications.\n",
    "\n",
    "Here are some different ways to build applications based on LLMs, in increasing order of cost/complexity:\n",
    "\n",
    "Prompting. Giving a pretrained LLM instructions lets you build a prototype in minutes or hours without a training set. Earlier this year, I saw a lot of people start experimenting with prompting, and that momentum continues unabated. Several of our short courses teach best practices for this approach.\n",
    "One-shot or few-shot prompting. In addition to a prompt, giving the LLM a handful of examples of how to carry out a task — the input and the desired output — sometimes yields better results.\n",
    "Fine-tuning. An LLM that has been pretrained on a lot of text can be fine-tuned to your task by training it further on a small dataset of your own. The tools for fine-tuning are maturing, making it accessible to more developers.\n",
    "Pretraining. Pretraining your own LLM from scratch takes a lot of resources, so very few teams do it. In addition to general-purpose models pretrained on diverse topics, this approach has led to specialized models like BloombergGPT, which knows about finance, and Med-PaLM 2, which is focused on medicine.\n",
    "For most teams, I recommend starting with prompting, since that allows you to get an application working quickly. If you’re unsatisfied with the quality of the output, ease into the more complex techniques gradually. Start one-shot or few-shot prompting with a handful of examples. If that doesn’t work well enough, perhaps use RAG (retrieval augmented generation) to further improve prompts with key information the LLM needs to generate high-quality outputs. If that still doesn’t deliver the performance you want, then try fine-tuning — but this represents a significantly greater level of complexity and may require hundreds or thousands more examples. To gain an in-depth understanding of these options, I highly recommend the course Generative AI with Large Language Models, created by AWS and DeepLearning.AI.\n",
    "\n",
    "(Fun fact: A member of the DeepLearning.AI team has been trying to fine-tune Llama-2-7B to sound like me. I wonder if my job is at risk? 😜)\n",
    "\n",
    "Additional complexity arises if you want to move to fine-tuning after prompting a proprietary model, such as GPT-4, that’s not available for fine-tuning. Is fine-tuning a much smaller model likely to yield superior results than prompting a larger, more capable model? The answer often depends on your application. If your goal is to change the style of an LLM’s output, then fine-tuning a smaller model can work well. However, if your application has been prompting GPT-4 to perform complex reasoning — in which GPT-4 surpasses current open models — it can be difficult to fine-tune a smaller model to deliver superior results.\n",
    "\n",
    "Beyond choosing a development approach, it’s also necessary to choose a specific model. Smaller models require less processing power and work well for many applications, but larger models tend to have more knowledge about the world and better reasoning ability. I’ll talk about how to make this choice in a future letter.\n",
    "\n",
    "Keep learning!\n",
    "\n",
    "Andrew\n",
    "\"\"\"\n",
    "\n",
    "prompt = f\"\"\"\n",
    "Summarize this email and extract some key points.\n",
    "\n",
    "What did the author say about llama models?\n",
    "```\n",
    "{email}\n",
    "```\n",
    "\"\"\""
   ]
  },
  {
   "cell_type": "markdown",
   "id": "135f00bb-51d9-492a-920b-5b286ab5f5c4",
   "metadata": {},
   "source": [
    "- First, use the 7B parameter chat model (`llama-2-7b-chat`) to summarize the email."
   ]
  },
  {
   "cell_type": "code",
   "execution_count": null,
   "id": "99c60da6-9b3e-4f11-a1d5-8e5e273e91ac",
   "metadata": {
    "height": 63
   },
   "outputs": [],
   "source": [
    "response_7b = llama(prompt,\n",
    "                model=\"META-LLAMA/Llama-2-7B-CHAT-HF\")\n",
    "print(response_7b)"
   ]
  },
  {
   "cell_type": "markdown",
   "id": "4e84506c-c6b9-4512-9fbc-1e27140d4a2f",
   "metadata": {},
   "source": [
    "- Now, use the 13B parameter chat model (`llama-2-13b-chat`) to summarize the email."
   ]
  },
  {
   "cell_type": "code",
   "execution_count": null,
   "id": "b6af5fb7-8538-4831-bf02-a18474b04c61",
   "metadata": {
    "height": 63
   },
   "outputs": [],
   "source": [
    "response_13b = llama(prompt,\n",
    "                model=\"META-LLAMA/Llama-2-13B-CHAT-HF\")\n",
    "print(response_13b)"
   ]
  },
  {
   "cell_type": "markdown",
   "id": "08aa0c61-ff78-4372-b4fb-a51be7bf11eb",
   "metadata": {},
   "source": [
    "- Lastly, use the 70B parameter chat model (`llama-2-70b-chat`) to summarize the email."
   ]
  },
  {
   "cell_type": "code",
   "execution_count": null,
   "id": "8a031c7e-d4d0-404d-867c-27f8a0ab96eb",
   "metadata": {
    "height": 63
   },
   "outputs": [],
   "source": [
    "response_70b = llama(prompt,\n",
    "                model=\"META-LLAMA/Llama-2-70B-CHAT-HF\")\n",
    "print(response_70b)"
   ]
  },
  {
   "cell_type": "markdown",
   "id": "0925c56a-7fb9-46ba-9680-8dc489cc0ce7",
   "metadata": {},
   "source": [
    "**Using Llama 3 chat models**"
   ]
  },
  {
   "cell_type": "code",
   "execution_count": null,
   "id": "17331039-712d-444d-b0c8-1dac330cd6c1",
   "metadata": {
    "height": 63
   },
   "outputs": [],
   "source": [
    "response_llama3_8b = llama(prompt,\n",
    "                model=\"META-LLAMA/Llama-3-8B-CHAT-HF\")\n",
    "print(response_llama3_8b)"
   ]
  },
  {
   "cell_type": "code",
   "execution_count": null,
   "id": "7c7aa9e3-819d-471b-a776-e5e37265e326",
   "metadata": {
    "height": 63
   },
   "outputs": [],
   "source": [
    "response_llama3_70b = llama(prompt,\n",
    "                model=\"META-LLAMA/Llama-3-70B-CHAT-HF\")\n",
    "print(response_llama3_70b)"
   ]
  },
  {
   "cell_type": "markdown",
   "id": "3e6f051d-a7e4-45cc-b162-646862084994",
   "metadata": {},
   "source": [
    "#### Model-Graded Evaluation: Summarization\n",
    "\n",
    "- Interestingly, you can ask a LLM to evaluate the responses of other LLMs.\n",
    "- This is known as **Model-Graded Evaluation**."
   ]
  },
  {
   "cell_type": "markdown",
   "id": "1a77de7b-7339-4ff3-b8fd-63cb448d4ed8",
   "metadata": {},
   "source": [
    "- Create a `prompt` that will evaluate these three responses using 70B parameter chat model (`llama-2-70b-chat`).\n",
    "- In the `prompt`, provide the \"email\", \"name of the models\", and the \"summary\" generated by each model."
   ]
  },
  {
   "cell_type": "code",
   "execution_count": null,
   "id": "e10e1d72-10ab-43dd-80f8-74fcf57e28a4",
   "metadata": {
    "height": 607
   },
   "outputs": [],
   "source": [
    "prompt = f\"\"\"\n",
    "Given the original text denoted by `email`\n",
    "and the name of several models: `model:<name of model>\n",
    "as well as the summary generated by that model: `summary`\n",
    "\n",
    "Provide an evaluation of each model's summary:\n",
    "- Does it summarize the original text well?\n",
    "- Does it follow the instructions of the prompt?\n",
    "- Are there any other interesting characteristics of the model's output?\n",
    "\n",
    "Then compare the models based on their evaluation \\\n",
    "and recommend the models that perform the best.\n",
    "\n",
    "email: ```{email}`\n",
    "\n",
    "model: llama-2-7b-chat\n",
    "summary: {response_7b}\n",
    "\n",
    "model: llama-2-13b-chat\n",
    "summary: {response_13b}\n",
    "\n",
    "model: llama-2-70b-chat\n",
    "summary: {response_70b}\n",
    "\n",
    "model: llama-3-8b-chat\n",
    "summary: {response_llama3_8b}\n",
    "\n",
    "model: llama-3-70b-chat\n",
    "summary: {response_llama3_70b}\n",
    "\"\"\"\n",
    "\n",
    "response_eval = llama(prompt,\n",
    "                model=\"META-LLAMA/Llama-3-70B-CHAT-HF\")\n",
    "print(response_eval)"
   ]
  },
  {
   "cell_type": "markdown",
   "id": "179a5581-bb28-4eba-be19-045be0779ed0",
   "metadata": {},
   "source": [
    "### Task 3: Reasoning ###\n",
    "- Compare the three models' performance on reasoning tasks."
   ]
  },
  {
   "cell_type": "code",
   "execution_count": null,
   "id": "1f98a66a-6d17-4a6d-bae8-881a5d5a1d4d",
   "metadata": {
    "height": 97
   },
   "outputs": [],
   "source": [
    "context = \"\"\"\n",
    "Jeff and Tommy are neighbors\n",
    "\n",
    "Tommy and Eddy are not neighbors\n",
    "\"\"\""
   ]
  },
  {
   "cell_type": "code",
   "execution_count": null,
   "id": "ff5198c1-701d-4e07-93a1-38ab7a12e07c",
   "metadata": {
    "height": 63
   },
   "outputs": [],
   "source": [
    "query = \"\"\"\n",
    "Are Jeff and Eddy neighbors?\n",
    "\"\"\""
   ]
  },
  {
   "cell_type": "code",
   "execution_count": null,
   "id": "da3a23b9-0dde-4cc2-83cc-b9344b5983d4",
   "metadata": {
    "height": 199
   },
   "outputs": [],
   "source": [
    "prompt = f\"\"\"\n",
    "Given this context: ```{context}```,\n",
    "\n",
    "and the following query:\n",
    "```{query}```\n",
    "\n",
    "Please answer the questions in the query and explain your reasoning.\n",
    "If there is not enough informaton to answer, please say\n",
    "\"I do not have enough information to answer this questions.\"\n",
    "\"\"\""
   ]
  },
  {
   "cell_type": "markdown",
   "id": "81d63881-485c-4170-9bb0-a935ea79e4de",
   "metadata": {},
   "source": [
    "- First, use the 7B parameter chat model (`llama-2-7b-chat`) for the response."
   ]
  },
  {
   "cell_type": "code",
   "execution_count": null,
   "id": "544f3d8b-14e4-497b-9a3e-3bcc9f9f623c",
   "metadata": {
    "height": 63
   },
   "outputs": [],
   "source": [
    "response_7b_chat = llama(prompt,\n",
    "                        model=\"META-LLAMA/Llama-2-7B-CHAT-HF\")\n",
    "print(response_7b_chat)"
   ]
  },
  {
   "cell_type": "markdown",
   "id": "cd66b3dc-a373-4c30-8554-9ef855a076c2",
   "metadata": {},
   "source": [
    "- Now, use the 13B parameter chat model (`llama-2-13b-chat`) for the response."
   ]
  },
  {
   "cell_type": "code",
   "execution_count": null,
   "id": "6fa0f0e9-d26e-4736-a053-abe175b4d5f7",
   "metadata": {
    "height": 63
   },
   "outputs": [],
   "source": [
    "response_13b_chat = llama(prompt,\n",
    "                        model=\"META-LLAMA/Llama-2-13B-CHAT-HF\")\n",
    "print(response_13b_chat)"
   ]
  },
  {
   "cell_type": "markdown",
   "id": "f6d7dc11-c961-4307-ba92-d0b88b9d8fc3",
   "metadata": {},
   "source": [
    "- Then, use the 70B parameter chat model (`llama-2-70b-chat`) for the response."
   ]
  },
  {
   "cell_type": "code",
   "execution_count": null,
   "id": "b3477846-ae26-4411-afa8-747261f0d6f9",
   "metadata": {
    "height": 63
   },
   "outputs": [],
   "source": [
    "response_70b_chat = llama(prompt,\n",
    "                        model=\"META-LLAMA/Llama-2-70B-CHAT-HF\")\n",
    "print(response_70b_chat)"
   ]
  },
  {
   "cell_type": "markdown",
   "id": "fce6f061-1040-42d5-81b1-e37709445c1e",
   "metadata": {},
   "source": [
    "- Lastly, use the Llama 3 models."
   ]
  },
  {
   "cell_type": "code",
   "execution_count": null,
   "id": "f958db46-abe8-4518-8db4-8829f00cde61",
   "metadata": {
    "height": 63
   },
   "outputs": [],
   "source": [
    "response_llama3_8b_chat = llama(prompt,\n",
    "                        model=\"META-LLAMA/Llama-3-8B-CHAT-HF\")\n",
    "print(response_llama3_8b_chat)"
   ]
  },
  {
   "cell_type": "code",
   "execution_count": null,
   "id": "3d7ea0b1-c040-4fb3-96c7-676e6f64442a",
   "metadata": {
    "height": 63
   },
   "outputs": [],
   "source": [
    "response_llama3_70b_chat = llama(prompt,\n",
    "                        model=\"META-LLAMA/Llama-3-70B-CHAT-HF\")\n",
    "print(response_llama3_70b_chat)"
   ]
  },
  {
   "cell_type": "markdown",
   "id": "1017fdb2-3e5d-4f4b-862d-acdb3dc41e5c",
   "metadata": {},
   "source": [
    "#### Model-Graded Evaluation: Reasoning\n",
    "\n",
    "- Again, ask a LLM to compare the three responses.\n",
    "- Create a `prompt` that will evaluate these three responses using 70B parameter chat model (`llama-2-70b-chat`).\n",
    "- In the `prompt`, provide the `context`, `query`,\"name of the models\", and the \"response\" generated by each model."
   ]
  },
  {
   "cell_type": "code",
   "execution_count": null,
   "id": "2c742104-ef6d-43f6-afa0-6f8ae67ace4a",
   "metadata": {
    "height": 556
   },
   "outputs": [],
   "source": [
    "prompt = f\"\"\"\n",
    "Given the context `context:`,\n",
    "Also also given the query (the task): `query:`\n",
    "and given the name of several models: `mode:<name of model>,\n",
    "as well as the response generated by that model: `response:`\n",
    "\n",
    "Provide an evaluation of each model's response:\n",
    "- Does it answer the query accurately?\n",
    "- Does it provide a contradictory response?\n",
    "- Are there any other interesting characteristics of the model's output?\n",
    "\n",
    "Then compare the models based on their evaluation \\\n",
    "and recommend the models that perform the best.\n",
    "\n",
    "context: ```{context}```\n",
    "\n",
    "model: llama-2-7b-chat\n",
    "response: ```{response_7b_chat}```\n",
    "\n",
    "model: llama-2-13b-chat\n",
    "response: ```{response_13b_chat}```\n",
    "\n",
    "model: llama-2-70b-chat\n",
    "response: ``{response_70b_chat}```\n",
    "\n",
    "model: llama-3-8b-chat\n",
    "response: ```{response_llama3_8b_chat}```\n",
    "\n",
    "model: llama-3-70b-chat\n",
    "response: ``{response_llama3_70b_chat}``\n",
    "\"\"\""
   ]
  },
  {
   "cell_type": "code",
   "execution_count": null,
   "id": "dc6f1cde-68e2-4e67-96da-a98dd2e6bc45",
   "metadata": {
    "height": 80
   },
   "outputs": [],
   "source": [
    "response_eval = llama(prompt, \n",
    "                      model=\"META-LLAMA/Llama-3-70B-CHAT-HF\")\n",
    "\n",
    "print(response_eval)"
   ]
  },
  {
   "cell_type": "code",
   "execution_count": null,
   "id": "7c1c20b2-599d-49ac-bca0-573360051a05",
   "metadata": {
    "height": 29
   },
   "outputs": [],
   "source": []
  }
 ],
 "metadata": {
  "kernelspec": {
   "display_name": "Python 3 (ipykernel)",
   "language": "python",
   "name": "python3"
  },
  "language_info": {
   "codemirror_mode": {
    "name": "ipython",
    "version": 3
   },
   "file_extension": ".py",
   "mimetype": "text/x-python",
   "name": "python",
   "nbconvert_exporter": "python",
   "pygments_lexer": "ipython3",
   "version": "3.10.14"
  }
 },
 "nbformat": 4,
 "nbformat_minor": 5
}
